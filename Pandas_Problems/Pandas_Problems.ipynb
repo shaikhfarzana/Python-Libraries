{
 "cells": [
  {
   "cell_type": "markdown",
   "metadata": {},
   "source": [
    "\"\"\"\n",
    "@Author: Farzana Shaikh\n",
    "@Date: 19-01-2022 04:00PM\n",
    "@Last Modified by: Farzana Shaikh\n",
    "@Last Modified time: 19-01-2022 08:00AM\n",
    "@Title : NumPy Problems\n",
    "\"\"\""
   ]
  },
  {
   "cell_type": "code",
   "execution_count": 1,
   "metadata": {},
   "outputs": [],
   "source": [
    "%run 'Logger.py'\n",
    "# Importing Logger Object from Logger.py"
   ]
  },
  {
   "cell_type": "markdown",
   "metadata": {},
   "source": [
    "1. Write a Python program to create and display a one-dimensional array-like object containing an array of data using Pandas module."
   ]
  },
  {
   "cell_type": "code",
   "execution_count": 3,
   "metadata": {},
   "outputs": [
    {
     "name": "stderr",
     "output_type": "stream",
     "text": [
      "2022-01-19 16:17:57,552:Logger:The one-dimentional array is \n",
      "0     2\n",
      "1     4\n",
      "2     6\n",
      "3     8\n",
      "4    10\n",
      "dtype: int64\n"
     ]
    }
   ],
   "source": [
    "from Logger import logger\n",
    "import pandas as pd\n",
    "\n",
    "def to_create_and_display_one_dimentional_array_using_pandas_module():\n",
    "    ds = pd.Series([2, 4, 6, 8, 10])\n",
    "    logger.debug(\"The one-dimentional array is \\n{}\".format(ds))\n",
    "\n",
    "if __name__ == \"__main__\":\n",
    "    to_create_and_display_one_dimentional_array_using_pandas_module()\n"
   ]
  },
  {
   "cell_type": "code",
   "execution_count": null,
   "metadata": {},
   "outputs": [],
   "source": []
  }
 ],
 "metadata": {
  "interpreter": {
   "hash": "916dbcbb3f70747c44a77c7bcd40155683ae19c65e1c03b4aa3499c5328201f1"
  },
  "kernelspec": {
   "display_name": "Python 3.8.10 64-bit",
   "language": "python",
   "name": "python3"
  },
  "language_info": {
   "codemirror_mode": {
    "name": "ipython",
    "version": 3
   },
   "file_extension": ".py",
   "mimetype": "text/x-python",
   "name": "python",
   "nbconvert_exporter": "python",
   "pygments_lexer": "ipython3",
   "version": "3.8.10"
  },
  "orig_nbformat": 4
 },
 "nbformat": 4,
 "nbformat_minor": 2
}
