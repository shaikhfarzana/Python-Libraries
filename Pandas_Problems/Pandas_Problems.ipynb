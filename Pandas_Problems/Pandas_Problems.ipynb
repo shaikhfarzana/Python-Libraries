{
 "cells": [
  {
   "cell_type": "markdown",
   "metadata": {},
   "source": [
    "\"\"\"\n",
    "@Author: Farzana Shaikh\n",
    "@Date: 19-01-2022 04:00PM\n",
    "@Last Modified by: Farzana Shaikh\n",
    "@Last Modified time: 19-01-2022 08:00AM\n",
    "@Title : NumPy Problems\n",
    "\"\"\""
   ]
  },
  {
   "cell_type": "code",
   "execution_count": 1,
   "metadata": {},
   "outputs": [],
   "source": [
    "%run 'Logger.py'\n",
    "# Importing Logger Object from Logger.py"
   ]
  },
  {
   "cell_type": "markdown",
   "metadata": {},
   "source": [
    "1. Write a Python program to create and display a one-dimensional array-like object containing an array of data using Pandas module."
   ]
  },
  {
   "cell_type": "code",
   "execution_count": 3,
   "metadata": {},
   "outputs": [
    {
     "name": "stderr",
     "output_type": "stream",
     "text": [
      "2022-01-19 16:17:57,552:Logger:The one-dimentional array is \n",
      "0     2\n",
      "1     4\n",
      "2     6\n",
      "3     8\n",
      "4    10\n",
      "dtype: int64\n"
     ]
    }
   ],
   "source": [
    "from Logger import logger\n",
    "import pandas as pd\n",
    "\n",
    "def to_create_and_display_one_dimentional_array_using_pandas_module():\n",
    "    ds = pd.Series([2, 4, 6, 8, 10])\n",
    "    logger.debug(\"The one-dimentional array is \\n{}\".format(ds))\n",
    "\n",
    "if __name__ == \"__main__\":\n",
    "    to_create_and_display_one_dimentional_array_using_pandas_module()\n"
   ]
  },
  {
   "cell_type": "markdown",
   "metadata": {},
   "source": [
    "2. Write a Python program to convert a Panda module Series to Python list and it's type."
   ]
  },
  {
   "cell_type": "code",
   "execution_count": 6,
   "metadata": {},
   "outputs": [
    {
     "name": "stderr",
     "output_type": "stream",
     "text": [
      "2022-01-20 02:10:48,077:Logger:Pandas Series and type \n",
      "0     2\n",
      "1     4\n",
      "2     6\n",
      "3     8\n",
      "4    10\n",
      "dtype: int64\n",
      "2022-01-20 02:10:48,078:Logger:The type of pandas series is <class 'pandas.core.series.Series'>\n",
      "2022-01-20 02:10:48,079:Logger:Convert Pandas Series to Python list\n",
      "2022-01-20 02:10:48,079:Logger:The list is [2, 4, 6, 8, 10]\n",
      "2022-01-20 02:10:48,080:Logger:The type of list is <class 'list'>\n"
     ]
    }
   ],
   "source": [
    "from Logger import logger\n",
    "import pandas as pd\n",
    "\n",
    "def to_convert_a_panda_module_to_python_list():\n",
    "    \"\"\"\n",
    "       Description:\n",
    "          Function is used to convert a Panda module Series to Python list and it's type.\n",
    "       Parameter:\n",
    "          No parameter required.\n",
    "       Return:\n",
    "          Returns nothing.\n",
    "    \"\"\"\n",
    "    ds = pd.Series([2, 4, 6, 8, 10])\n",
    "    logger.debug(\"Pandas Series and type \\n{}\".format(ds))\n",
    "    logger.debug(\"The type of pandas series is {}\".format(type(ds)))\n",
    "    logger.debug(\"Convert Pandas Series to Python list\")\n",
    "    logger.debug(\"The list is {}\".format(ds.tolist()))\n",
    "    logger.debug(\"The type of list is {}\".format(type(ds.tolist())))\n",
    "\n",
    "\n",
    "if __name__ == \"__main__\":\n",
    "    to_convert_a_panda_module_to_python_list()"
   ]
  },
  {
   "cell_type": "markdown",
   "metadata": {},
   "source": [
    "3. Write a Python program to add, subtract, multiple and divide two Pandas Series."
   ]
  },
  {
   "cell_type": "code",
   "execution_count": 7,
   "metadata": {},
   "outputs": [
    {
     "name": "stderr",
     "output_type": "stream",
     "text": [
      "2022-01-20 02:21:30,818:Logger:Add two Series:\n",
      " 0     3\n",
      "1     7\n",
      "2    11\n",
      "3    15\n",
      "4    19\n",
      "dtype: int64\n",
      "2022-01-20 02:21:30,820:Logger:Subtract two Series:\n",
      " 0    1\n",
      "1    1\n",
      "2    1\n",
      "3    1\n",
      "4    1\n",
      "dtype: int64\n",
      "2022-01-20 02:21:30,821:Logger:Multiply two Series:\n",
      " 0     2\n",
      "1    12\n",
      "2    30\n",
      "3    56\n",
      "4    90\n",
      "dtype: int64\n",
      "2022-01-20 02:21:30,822:Logger:Divide Series1 by Series2:\n",
      " 0    2.000000\n",
      "1    1.333333\n",
      "2    1.200000\n",
      "3    1.142857\n",
      "4    1.111111\n",
      "dtype: float64\n"
     ]
    }
   ],
   "source": [
    "from Logger import logger\n",
    "import pandas as pd\n",
    "\n",
    "def to_add_subtract_multiple_divide_two_pandas_series():\n",
    "    \"\"\"\n",
    "       Description:\n",
    "          Function is used to add, subtract, multiple and divide two Pandas Series.\n",
    "       Parameter:\n",
    "          No parameter required.\n",
    "       Return:\n",
    "          Returns nothing.\n",
    "    \"\"\"\n",
    "    ds1 = pd.Series([2, 4, 6, 8, 10])\n",
    "    ds2 = pd.Series([1, 3, 5, 7, 9])\n",
    "    ds = ds1 + ds2\n",
    "    logger.debug(\"Add two Series:\\n {}\".format(ds))\n",
    "    ds = ds1 - ds2\n",
    "    logger.debug(\"Subtract two Series:\\n {}\".format(ds))\n",
    "    ds = ds1 * ds2\n",
    "    logger.debug(\"Multiply two Series:\\n {}\".format(ds))\n",
    "    ds = ds1 / ds2\n",
    "    logger.debug(\"Divide Series1 by Series2:\\n {}\".format(ds))\n",
    "    \n",
    "   \n",
    "\n",
    "if __name__ == \"__main__\":\n",
    "    to_add_subtract_multiple_divide_two_pandas_series()"
   ]
  },
  {
   "cell_type": "markdown",
   "metadata": {},
   "source": [
    "4. Write a Python program to get the powers of an array values element-wise."
   ]
  },
  {
   "cell_type": "code",
   "execution_count": 10,
   "metadata": {},
   "outputs": [
    {
     "name": "stderr",
     "output_type": "stream",
     "text": [
      "2022-01-20 02:27:50,208:Logger:Original array :\n",
      " [0 1 2 3 4 5 6]\n",
      "2022-01-20 02:27:50,210:Logger:First array elements raised to powers from second array, element-wise:\n",
      " [  0   1   8  27  64 125 216]\n"
     ]
    }
   ],
   "source": [
    "from Logger import logger\n",
    "import numpy as np\n",
    "\n",
    "def to_get_the_powers_of_an_array_values_element_wise():\n",
    "    new_array = np.arange(7)\n",
    "    logger.debug(\"Original array :\\n {}\".format(new_array))\n",
    "    logger.debug(\"First array elements raised to powers from second array, element-wise:\\n {}\".format((np.power(new_array, 3))))\n",
    "\n",
    "if __name__ == \"__main__\":\n",
    "    to_get_the_powers_of_an_array_values_element_wise()"
   ]
  },
  {
   "cell_type": "code",
   "execution_count": null,
   "metadata": {},
   "outputs": [],
   "source": []
  }
 ],
 "metadata": {
  "interpreter": {
   "hash": "916dbcbb3f70747c44a77c7bcd40155683ae19c65e1c03b4aa3499c5328201f1"
  },
  "kernelspec": {
   "display_name": "Python 3.8.10 64-bit",
   "language": "python",
   "name": "python3"
  },
  "language_info": {
   "codemirror_mode": {
    "name": "ipython",
    "version": 3
   },
   "file_extension": ".py",
   "mimetype": "text/x-python",
   "name": "python",
   "nbconvert_exporter": "python",
   "pygments_lexer": "ipython3",
   "version": "3.8.10"
  },
  "orig_nbformat": 4
 },
 "nbformat": 4,
 "nbformat_minor": 2
}
