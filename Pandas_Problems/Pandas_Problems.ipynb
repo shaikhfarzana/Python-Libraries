{
 "cells": [
  {
   "cell_type": "markdown",
   "metadata": {},
   "source": [
    "\"\"\"\n",
    "@Author: Farzana Shaikh\n",
    "@Date: 19-01-2022 04:00PM\n",
    "@Last Modified by: Farzana Shaikh\n",
    "@Last Modified time: 19-01-2022 08:00AM\n",
    "@Title : NumPy Problems\n",
    "\"\"\""
   ]
  },
  {
   "cell_type": "code",
   "execution_count": 1,
   "metadata": {},
   "outputs": [],
   "source": [
    "%run 'Logger.py'\n",
    "# Importing Logger Object from Logger.py"
   ]
  },
  {
   "cell_type": "markdown",
   "metadata": {},
   "source": [
    "1. Write a Python program to create and display a one-dimensional array-like object containing an array of data using Pandas module."
   ]
  },
  {
   "cell_type": "code",
   "execution_count": 3,
   "metadata": {},
   "outputs": [
    {
     "name": "stderr",
     "output_type": "stream",
     "text": [
      "2022-01-19 16:17:57,552:Logger:The one-dimentional array is \n",
      "0     2\n",
      "1     4\n",
      "2     6\n",
      "3     8\n",
      "4    10\n",
      "dtype: int64\n"
     ]
    }
   ],
   "source": [
    "from Logger import logger\n",
    "import pandas as pd\n",
    "\n",
    "def to_create_and_display_one_dimentional_array_using_pandas_module():\n",
    "    ds = pd.Series([2, 4, 6, 8, 10])\n",
    "    logger.debug(\"The one-dimentional array is \\n{}\".format(ds))\n",
    "\n",
    "if __name__ == \"__main__\":\n",
    "    to_create_and_display_one_dimentional_array_using_pandas_module()\n"
   ]
  },
  {
   "cell_type": "markdown",
   "metadata": {},
   "source": [
    "2. Write a Python program to convert a Panda module Series to Python list and it's type."
   ]
  },
  {
   "cell_type": "code",
   "execution_count": 6,
   "metadata": {},
   "outputs": [
    {
     "name": "stderr",
     "output_type": "stream",
     "text": [
      "2022-01-20 02:10:48,077:Logger:Pandas Series and type \n",
      "0     2\n",
      "1     4\n",
      "2     6\n",
      "3     8\n",
      "4    10\n",
      "dtype: int64\n",
      "2022-01-20 02:10:48,078:Logger:The type of pandas series is <class 'pandas.core.series.Series'>\n",
      "2022-01-20 02:10:48,079:Logger:Convert Pandas Series to Python list\n",
      "2022-01-20 02:10:48,079:Logger:The list is [2, 4, 6, 8, 10]\n",
      "2022-01-20 02:10:48,080:Logger:The type of list is <class 'list'>\n"
     ]
    }
   ],
   "source": [
    "from Logger import logger\n",
    "import pandas as pd\n",
    "\n",
    "def to_convert_a_panda_module_to_python_list():\n",
    "    \"\"\"\n",
    "       Description:\n",
    "          Function is used to convert a Panda module Series to Python list and it's type.\n",
    "       Parameter:\n",
    "          No parameter required.\n",
    "       Return:\n",
    "          Returns nothing.\n",
    "    \"\"\"\n",
    "    ds = pd.Series([2, 4, 6, 8, 10])\n",
    "    logger.debug(\"Pandas Series and type \\n{}\".format(ds))\n",
    "    logger.debug(\"The type of pandas series is {}\".format(type(ds)))\n",
    "    logger.debug(\"Convert Pandas Series to Python list\")\n",
    "    logger.debug(\"The list is {}\".format(ds.tolist()))\n",
    "    logger.debug(\"The type of list is {}\".format(type(ds.tolist())))\n",
    "\n",
    "\n",
    "if __name__ == \"__main__\":\n",
    "    to_convert_a_panda_module_to_python_list()"
   ]
  },
  {
   "cell_type": "markdown",
   "metadata": {},
   "source": [
    "3. Write a Python program to add, subtract, multiple and divide two Pandas Series."
   ]
  },
  {
   "cell_type": "code",
   "execution_count": 7,
   "metadata": {},
   "outputs": [
    {
     "name": "stderr",
     "output_type": "stream",
     "text": [
      "2022-01-20 02:21:30,818:Logger:Add two Series:\n",
      " 0     3\n",
      "1     7\n",
      "2    11\n",
      "3    15\n",
      "4    19\n",
      "dtype: int64\n",
      "2022-01-20 02:21:30,820:Logger:Subtract two Series:\n",
      " 0    1\n",
      "1    1\n",
      "2    1\n",
      "3    1\n",
      "4    1\n",
      "dtype: int64\n",
      "2022-01-20 02:21:30,821:Logger:Multiply two Series:\n",
      " 0     2\n",
      "1    12\n",
      "2    30\n",
      "3    56\n",
      "4    90\n",
      "dtype: int64\n",
      "2022-01-20 02:21:30,822:Logger:Divide Series1 by Series2:\n",
      " 0    2.000000\n",
      "1    1.333333\n",
      "2    1.200000\n",
      "3    1.142857\n",
      "4    1.111111\n",
      "dtype: float64\n"
     ]
    }
   ],
   "source": [
    "from Logger import logger\n",
    "import pandas as pd\n",
    "\n",
    "def to_add_subtract_multiple_divide_two_pandas_series():\n",
    "    \"\"\"\n",
    "       Description:\n",
    "          Function is used to add, subtract, multiple and divide two Pandas Series.\n",
    "       Parameter:\n",
    "          No parameter required.\n",
    "       Return:\n",
    "          Returns nothing.\n",
    "    \"\"\"\n",
    "    ds1 = pd.Series([2, 4, 6, 8, 10])\n",
    "    ds2 = pd.Series([1, 3, 5, 7, 9])\n",
    "    ds = ds1 + ds2\n",
    "    logger.debug(\"Add two Series:\\n {}\".format(ds))\n",
    "    ds = ds1 - ds2\n",
    "    logger.debug(\"Subtract two Series:\\n {}\".format(ds))\n",
    "    ds = ds1 * ds2\n",
    "    logger.debug(\"Multiply two Series:\\n {}\".format(ds))\n",
    "    ds = ds1 / ds2\n",
    "    logger.debug(\"Divide Series1 by Series2:\\n {}\".format(ds))\n",
    "    \n",
    "   \n",
    "\n",
    "if __name__ == \"__main__\":\n",
    "    to_add_subtract_multiple_divide_two_pandas_series()"
   ]
  },
  {
   "cell_type": "markdown",
   "metadata": {},
   "source": [
    "4. Write a Python program to get the powers of an array values element-wise. "
   ]
  },
  {
   "cell_type": "code",
   "execution_count": 10,
   "metadata": {},
   "outputs": [
    {
     "name": "stderr",
     "output_type": "stream",
     "text": [
      "2022-01-20 02:27:50,208:Logger:Original array :\n",
      " [0 1 2 3 4 5 6]\n",
      "2022-01-20 02:27:50,210:Logger:First array elements raised to powers from second array, element-wise:\n",
      " [  0   1   8  27  64 125 216]\n"
     ]
    }
   ],
   "source": [
    "from Logger import logger\n",
    "import numpy as np\n",
    "\n",
    "def to_get_the_powers_of_an_array_values_element_wise():\n",
    "    \"\"\"\n",
    "       Description:\n",
    "          Function is used to get the powers of an array values element-wise.\n",
    "       Parameter:\n",
    "          No parameter required.\n",
    "       Return:\n",
    "          Returns nothing.\n",
    "    \"\"\"\n",
    "    new_array = np.arange(7)\n",
    "    logger.debug(\"Original array :\\n {}\".format(new_array))\n",
    "    logger.debug(\"First array elements raised to powers from second array, element-wise:\\n {}\".format((np.power(new_array, 3))))\n",
    "\n",
    "if __name__ == \"__main__\":\n",
    "    to_get_the_powers_of_an_array_values_element_wise()"
   ]
  },
  {
   "cell_type": "markdown",
   "metadata": {},
   "source": [
    "5. Write a Python program to create and display a DataFrame from a specified dictionary\n",
    "data which has the index labels."
   ]
  },
  {
   "cell_type": "code",
   "execution_count": 11,
   "metadata": {},
   "outputs": [
    {
     "name": "stderr",
     "output_type": "stream",
     "text": [
      "2022-01-20 02:37:02,125:Logger:The dataframe with given index label is \n",
      "         name  score  attempts qualify\n",
      "a  Anastasia   12.5         1     yes\n",
      "b       Dima    9.0         3      no\n",
      "c  Katherine   16.5         2     yes\n",
      "d      James    NaN         3      no\n",
      "e      Emily    9.0         2      no\n",
      "f    Michael   20.0         3     yes\n",
      "g    Matthew   14.5         1     yes\n",
      "h      Laura    NaN         1      no\n",
      "i      Kevin    8.0         2      no\n",
      "j      Jonas   19.0         1     yes\n"
     ]
    }
   ],
   "source": [
    "from Logger import logger\n",
    "import pandas as pd\n",
    "import numpy as np\n",
    "\n",
    "def to_create_and_display_dataframe_dictionary_from_index_label():\n",
    "    \"\"\"\n",
    "       Description:\n",
    "          Function is used to create and display a DataFrame from a specified dictionary data which has the index labels.\n",
    "       Parameter:\n",
    "          No parameter required.\n",
    "       Return:\n",
    "          Returns nothing.\n",
    "    \"\"\"\n",
    "    exam_data  = {'name': ['Anastasia', 'Dima', 'Katherine', 'James', 'Emily', 'Michael', 'Matthew', 'Laura', 'Kevin', 'Jonas'],\n",
    "            'score': [12.5, 9, 16.5, np.nan, 9, 20, 14.5, np.nan, 8, 19],\n",
    "            'attempts': [1, 3, 2, 3, 2, 3, 1, 1, 2, 1],\n",
    "            'qualify': ['yes', 'no', 'yes', 'no', 'no', 'yes', 'yes', 'no', 'no', 'yes']}\n",
    "    labels = ['a', 'b', 'c', 'd', 'e', 'f', 'g', 'h', 'i', 'j']\n",
    "\n",
    "    df = pd.DataFrame(exam_data , index=labels)\n",
    "    logger.debug(\"The dataframe with given index label is \\n {}\".format(df))\n",
    "\n",
    "\n",
    "if __name__ == \"__main__\":\n",
    "    to_create_and_display_dataframe_dictionary_from_index_label()"
   ]
  },
  {
   "cell_type": "markdown",
   "metadata": {},
   "source": [
    "9. Write a Python program to select the specified columns and rows from a given data frame."
   ]
  },
  {
   "cell_type": "code",
   "execution_count": 17,
   "metadata": {},
   "outputs": [
    {
     "name": "stderr",
     "output_type": "stream",
     "text": [
      "2022-01-20 02:47:37,092:Logger:Selected specific columns and rows:\n",
      "2022-01-20 02:47:37,102:Logger:\n",
      "    score qualify\n",
      "b    9.0      no\n",
      "d    NaN      no\n",
      "f   20.0     yes\n",
      "g   14.5     yes\n"
     ]
    }
   ],
   "source": [
    "from Logger import logger\n",
    "import pandas as pd\n",
    "import numpy as np\n",
    "\n",
    "def to_select_the_specified_columns_and_rows_from_given_data_frame():\n",
    "    \"\"\"\n",
    "       Description:\n",
    "          Function is used to select the specified columns and rows from a given data frame.\n",
    "       Parameter:\n",
    "          No parameter required.\n",
    "       Return:\n",
    "          Returns nothing.\n",
    "    \"\"\"\n",
    "\n",
    "    exam_data  = {'name': ['Anastasia', 'Dima', 'Katherine', 'James', 'Emily', 'Michael', 'Matthew', 'Laura', 'Kevin', 'Jonas'],\n",
    "            'score': [12.5, 9, 16.5, np.nan, 9, 20, 14.5, np.nan, 8, 19],\n",
    "            'attempts': [1, 3, 2, 3, 2, 3, 1, 1, 2, 1],\n",
    "            'qualify': ['yes', 'no', 'yes', 'no', 'no', 'yes', 'yes', 'no', 'no', 'yes']}\n",
    "    labels = ['a', 'b', 'c', 'd', 'e', 'f', 'g', 'h', 'i', 'j']\n",
    "\n",
    "    df = pd.DataFrame(exam_data , index=labels)\n",
    "    logger.debug(\"Selected specific columns and rows:\")\n",
    "    logger.debug(\"\\n {}\".format(df.iloc[[1, 3, 5, 6], [1, 3]]))\n",
    "\n",
    "\n",
    "if __name__ == \"__main__\":\n",
    "    to_select_the_specified_columns_and_rows_from_given_data_frame()"
   ]
  },
  {
   "cell_type": "markdown",
   "metadata": {},
   "source": [
    "10. Write a Python program to select the rows where the number of attempts in the examination is greater than 2."
   ]
  },
  {
   "cell_type": "code",
   "execution_count": 21,
   "metadata": {},
   "outputs": [
    {
     "name": "stderr",
     "output_type": "stream",
     "text": [
      "2022-01-20 02:54:41,652:Logger:Number of attempts in the examination is greater than 2:\n",
      "2022-01-20 02:54:41,656:Logger:\n",
      "       name  score  attempts qualify\n",
      "b     Dima    9.0         3      no\n",
      "d    James    NaN         3      no\n",
      "f  Michael   20.0         3     yes\n"
     ]
    }
   ],
   "source": [
    "from Logger import logger\n",
    "import pandas as pd\n",
    "import numpy as np\n",
    "\n",
    "def to_select_number_of_attempts_greater_than_two():\n",
    "    \"\"\"\n",
    "       Description:\n",
    "           Function is used to select the rows where the number of attempts in the examination is greater than 2.\n",
    "       Parameter:\n",
    "          No parameter required.\n",
    "       Return:\n",
    "          Returns nothing.\n",
    "          \n",
    "    \"\"\"\n",
    "\n",
    "    exam_data  = {'name': ['Anastasia', 'Dima', 'Katherine', 'James', 'Emily', 'Michael', 'Matthew', 'Laura', 'Kevin', 'Jonas'],\n",
    "            'score': [12.5, 9, 16.5, np.nan, 9, 20, 14.5, np.nan, 8, 19],\n",
    "            'attempts' : [1, 3, 2, 3, 2, 3, 1, 1, 2, 1],\n",
    "            'qualify': ['yes', 'no', 'yes', 'no', 'no', 'yes', 'yes', 'no', 'no', 'yes']}\n",
    "    labels = ['a', 'b', 'c', 'd', 'e', 'f', 'g', 'h', 'i', 'j']\n",
    "\n",
    "    df = pd.DataFrame(exam_data , index=labels)\n",
    "    logger.debug(\"Number of attempts in the examination is greater than 2:\")\n",
    "    logger.debug(\"\\n {}\".format(df[df['attempts'] > 2]))\n",
    "\n",
    "\n",
    "if __name__ == \"__main__\":\n",
    "    to_select_number_of_attempts_greater_than_two()"
   ]
  },
  {
   "cell_type": "markdown",
   "metadata": {},
   "source": [
    "11. Write a Python program to count the number of rows and columns of a DataFrame."
   ]
  },
  {
   "cell_type": "code",
   "execution_count": 24,
   "metadata": {},
   "outputs": [
    {
     "name": "stderr",
     "output_type": "stream",
     "text": [
      "2022-01-20 03:00:33,675:Logger:Number of rows and columns of the DataFrame:\n",
      " (10, 4)\n"
     ]
    }
   ],
   "source": [
    "from Logger import logger\n",
    "import pandas as pd\n",
    "\n",
    "def to_count_the_number_of_rows_and_columns_of_dataframe():\n",
    "    \"\"\"\n",
    "       Description:\n",
    "          Function is used to count the number of rows and columns of a DataFrame.\n",
    "       Parameter:\n",
    "          No parameter required.\n",
    "       Return:\n",
    "          Returns nothing.\n",
    "    \"\"\"\n",
    "    exam_data  = {'name': ['Anastasia', 'Dima', 'Katherine', 'James', 'Emily', 'Michael', 'Matthew', 'Laura', 'Kevin', 'Jonas'],\n",
    "            'score': [12.5, 9, 16.5, np.nan, 9, 20, 14.5, np.nan, 8, 19],\n",
    "            'attempts' : [1, 3, 2, 3, 2, 3, 1, 1, 2, 1],\n",
    "            'qualify': ['yes', 'no', 'yes', 'no', 'no', 'yes', 'yes', 'no', 'no', 'yes']}\n",
    "    labels = ['a', 'b', 'c', 'd', 'e', 'f', 'g', 'h', 'i', 'j']\n",
    "\n",
    "    df = pd.DataFrame(exam_data , index=labels)\n",
    "    result = df.shape\n",
    "    logger.debug(\"Number of rows and columns of the DataFrame:\\n {}\".format(result))\n",
    "\n",
    "if __name__ == \"__main__\":\n",
    "    to_count_the_number_of_rows_and_columns_of_dataframe()"
   ]
  },
  {
   "cell_type": "markdown",
   "metadata": {},
   "source": [
    "12. Write a Python program to select the rows where the score is missing, i.e. is NaN."
   ]
  },
  {
   "cell_type": "code",
   "execution_count": 25,
   "metadata": {},
   "outputs": [
    {
     "name": "stderr",
     "output_type": "stream",
     "text": [
      "2022-01-20 03:06:19,172:Logger:Rows where score is missing:\n",
      "2022-01-20 03:06:19,175:Logger:\n",
      "     name  score  attempts qualify\n",
      "d  James    NaN         3      no\n",
      "h  Laura    NaN         1      no\n"
     ]
    }
   ],
   "source": [
    "from Logger import logger\n",
    "import pandas as pd\n",
    "import numpy as np\n",
    "\n",
    "def to_select_the_null_values_in_a_rows():\n",
    "    \"\"\"\n",
    "       Description:\n",
    "          Function is used to select the rows where the score is missing, i.e. is NaN.\n",
    "       Parameter:\n",
    "          No parameter required.\n",
    "       Return:\n",
    "          Returns nothing.\n",
    "    \"\"\"\n",
    "\n",
    "    exam_data  = {'name': ['Anastasia', 'Dima', 'Katherine', 'James', 'Emily', 'Michael', 'Matthew', 'Laura', 'Kevin', 'Jonas'],\n",
    "            'score': [12.5, 9, 16.5, np.nan, 9, 20, 14.5, np.nan, 8, 19],\n",
    "            'attempts': [1, 3, 2, 3, 2, 3, 1, 1, 2, 1],\n",
    "            'qualify': ['yes', 'no', 'yes', 'no', 'no', 'yes', 'yes', 'no', 'no', 'yes']}\n",
    "    labels = ['a', 'b', 'c', 'd', 'e', 'f', 'g', 'h', 'i', 'j']\n",
    "\n",
    "    df = pd.DataFrame(exam_data , index=labels)\n",
    "    logger.debug(\"Rows where score is missing:\")\n",
    "    logger.debug(\"\\n {}\".format(df[df['score'].isnull()]))\n",
    "\n",
    "\n",
    "if __name__ == \"__main__\":\n",
    "    to_select_the_null_values_in_a_rows()"
   ]
  },
  {
   "cell_type": "markdown",
   "metadata": {},
   "source": [
    "13. Write a Python program to select the rows where number of attempts in the examination is less than 2 and score greater than 15."
   ]
  },
  {
   "cell_type": "code",
   "execution_count": 28,
   "metadata": {},
   "outputs": [
    {
     "name": "stderr",
     "output_type": "stream",
     "text": [
      "2022-01-20 03:11:13,239:Logger:Number of attempts in the examination is less than 2 and score greater than 15 :\n",
      "2022-01-20 03:11:13,246:Logger:\n",
      "     name  score  attempts qualify\n",
      "j  Jonas   19.0         1     yes\n"
     ]
    }
   ],
   "source": [
    "from Logger import logger\n",
    "import pandas as pd\n",
    "import numpy as np\n",
    "\n",
    "def to_select_row_with_specific_condition():\n",
    "    \"\"\"\n",
    "       Description:\n",
    "          Function is used to select the rows where number of attempts in the examination is less than 2 and score greater than 15.\n",
    "       Parameter:\n",
    "          No parameter required.\n",
    "       Return:\n",
    "          Returns nothing.\n",
    "    \"\"\"\n",
    "    exam_data  = {'name': ['Anastasia', 'Dima', 'Katherine', 'James', 'Emily', 'Michael', 'Matthew', 'Laura', 'Kevin', 'Jonas'],\n",
    "            'score': [12.5, 9, 16.5, np.nan, 9, 20, 14.5, np.nan, 8, 19],\n",
    "            'attempts': [1, 3, 2, 3, 2, 3, 1, 1, 2, 1],\n",
    "            'qualify': ['yes', 'no', 'yes', 'no', 'no', 'yes', 'yes', 'no', 'no', 'yes']}\n",
    "    labels = ['a', 'b', 'c', 'd', 'e', 'f', 'g', 'h', 'i', 'j']\n",
    "    df = pd.DataFrame(exam_data , index=labels)\n",
    "    logger.debug(\"Number of attempts in the examination is less than 2 and score greater than 15 :\")\n",
    "    logger.debug(\"\\n {}\".format(df[(df['attempts'] < 2) & (df['score'] > 15)]))\n",
    "\n",
    "\n",
    "if __name__ == \"__main__\":\n",
    "    to_select_row_with_specific_condition()"
   ]
  },
  {
   "cell_type": "markdown",
   "metadata": {},
   "source": [
    "14. Write a Python program to change the score in row 'd' to 11.5."
   ]
  },
  {
   "cell_type": "code",
   "execution_count": 30,
   "metadata": {},
   "outputs": [
    {
     "name": "stderr",
     "output_type": "stream",
     "text": [
      "2022-01-20 03:16:15,728:Logger:Original data frame:\n",
      "         name  score  attempts qualify\n",
      "a  Anastasia   12.5         1     yes\n",
      "b       Dima    9.0         3      no\n",
      "c  Katherine   16.5         2     yes\n",
      "d      James    NaN         3      no\n",
      "e      Emily    9.0         2      no\n",
      "f    Michael   20.0         3     yes\n",
      "g    Matthew   14.5         1     yes\n",
      "h      Laura    NaN         1      no\n",
      "i      Kevin    8.0         2      no\n",
      "j      Jonas   19.0         1     yes\n",
      "2022-01-20 03:16:15,730:Logger:\n",
      "Change the score in row 'd' to 11.5:\n",
      "2022-01-20 03:16:15,736:Logger:        name  score  attempts qualify\n",
      "a  Anastasia   12.5         1     yes\n",
      "b       Dima    9.0         3      no\n",
      "c  Katherine   16.5         2     yes\n",
      "d      James   11.5         3      no\n",
      "e      Emily    9.0         2      no\n",
      "f    Michael   20.0         3     yes\n",
      "g    Matthew   14.5         1     yes\n",
      "h      Laura    NaN         1      no\n",
      "i      Kevin    8.0         2      no\n",
      "j      Jonas   19.0         1     yes\n"
     ]
    }
   ],
   "source": [
    "from Logger import logger\n",
    "import pandas as pd\n",
    "import numpy as np\n",
    "\n",
    "def to_change_score_in_a_row():\n",
    "    \"\"\"\n",
    "       Description:\n",
    "          Function is used to change the score in row 'd' to 11.5.\n",
    "       Parameter:\n",
    "          No parameter required.\n",
    "       Return:\n",
    "          Returns nothing.\n",
    "    \"\"\"\n",
    "    exam_data  = {'name': ['Anastasia', 'Dima', 'Katherine', 'James', 'Emily', 'Michael', 'Matthew', 'Laura', 'Kevin', 'Jonas'],\n",
    "            'score': [12.5, 9, 16.5, np.nan, 9, 20, 14.5, np.nan, 8, 19],\n",
    "            'attempts': [1, 3, 2, 3, 2, 3, 1, 1, 2, 1],\n",
    "            'qualify': ['yes', 'no', 'yes', 'no', 'no', 'yes', 'yes', 'no', 'no', 'yes']}\n",
    "    labels = ['a', 'b', 'c', 'd', 'e', 'f', 'g', 'h', 'i', 'j']\n",
    "\n",
    "    df = pd.DataFrame(exam_data , index=labels)\n",
    "    logger.debug(\"Original data frame:\\n {}\".format(df))\n",
    "    logger.debug(\"\\nChange the score in row 'd' to 11.5:\")\n",
    "    df.loc['d', 'score'] = 11.5\n",
    "    logger.debug(\"\\n {}\".format(df))\n",
    "\n",
    "\n",
    "if __name__ == \"__main__\":\n",
    "    to_change_score_in_a_row()"
   ]
  },
  {
   "cell_type": "code",
   "execution_count": null,
   "metadata": {},
   "outputs": [],
   "source": []
  }
 ],
 "metadata": {
  "interpreter": {
   "hash": "916dbcbb3f70747c44a77c7bcd40155683ae19c65e1c03b4aa3499c5328201f1"
  },
  "kernelspec": {
   "display_name": "Python 3.8.10 64-bit",
   "language": "python",
   "name": "python3"
  },
  "language_info": {
   "codemirror_mode": {
    "name": "ipython",
    "version": 3
   },
   "file_extension": ".py",
   "mimetype": "text/x-python",
   "name": "python",
   "nbconvert_exporter": "python",
   "pygments_lexer": "ipython3",
   "version": "3.8.10"
  },
  "orig_nbformat": 4
 },
 "nbformat": 4,
 "nbformat_minor": 2
}
