{
 "cells": [
  {
   "cell_type": "markdown",
   "metadata": {},
   "source": [
    "\"\"\"\n",
    "@Author: Farzana Shaikh\n",
    "@Date: 23-01-2021 08:00AM\n",
    "@Last Modified by: Farzana Shaikh\n",
    "@Last Modified time: 24-01-2022 09:00AM\n",
    "@Title : Seaborn Bar Chart Problems.\n",
    "\"\"\""
   ]
  },
  {
   "cell_type": "markdown",
   "metadata": {},
   "source": [
    "1.Write a program to draw bar plot of sex against survived for a dataset given in the url."
   ]
  },
  {
   "cell_type": "code",
   "execution_count": 16,
   "metadata": {},
   "outputs": [
    {
     "data": {
      "image/png": "[encoded data removed]",
      "text/plain": [
       "<Figure size 432x288 with 1 Axes>"
      ]
     },
     "metadata": {},
     "output_type": "display_data"
    }
   ],
   "source": [
    "import matplotlib.pyplot as plt\n",
    "import seaborn as sns\n",
    "\n",
    "def draw_bar_plot():\n",
    "    \"\"\"\n",
    "       Description:\n",
    "          Function is used to draw a bar chart for a given dataset.\n",
    "       Parameter:\n",
    "          No parameter required.\n",
    "       Return:\n",
    "          Returns nothing.\n",
    "    \"\"\"\n",
    "\n",
    "    # Set Seaborn style\n",
    "    sns.set_style('darkgrid')\n",
    "    # Import Data\n",
    "    titanic_dataset = sns.load_dataset(\"titanic\")\n",
    "\n",
    "    # Construct plot\n",
    "    sns.barplot(x = \"sex\", y = \"survived\", palette='hls', data = titanic_dataset)\n",
    "    plt.show()\n",
    "\n",
    "\n",
    "if __name__ == \"__main__\":\n",
    "    draw_bar_plot()\n"
   ]
  },
  {
   "cell_type": "markdown",
   "metadata": {},
   "source": [
    "\"\"\"\n",
    "@Author: Farzana Shaikh\n",
    "@Date: 23-01-2021 08:00AM\n",
    "@Last Modified by: Farzana Shaikh\n",
    "@Last Modified time: 24-01-2022 09:00AM\n",
    "@Title : Seaborn Point Plot Problem.\n",
    "\"\"\""
   ]
  },
  {
   "cell_type": "markdown",
   "metadata": {},
   "source": [
    "1.Write a program to draw a point plot for sex against survived for a dataset given in url."
   ]
  },
  {
   "cell_type": "code",
   "execution_count": 18,
   "metadata": {},
   "outputs": [
    {
     "data": {
      "image/png": "[encoded data removed]",
      "text/plain": [
       "<Figure size 432x288 with 1 Axes>"
      ]
     },
     "metadata": {},
     "output_type": "display_data"
    }
   ],
   "source": [
    "import matplotlib.pyplot as plt \n",
    "import seaborn as sns \n",
    "\n",
    "def draw_point_plot():\n",
    "    \"\"\"\n",
    "       Description:\n",
    "          Function is used to draw a point plot for a given dataset.\n",
    "       Parameter:\n",
    "          No parameter required.\n",
    "       Return:\n",
    "          Returns nothing.\n",
    "    \"\"\"\n",
    "\n",
    "    # Set Seaborn style\n",
    "    sns.set_style('darkgrid')\n",
    "    # Import Data\n",
    "    titanic_dataset = sns.load_dataset(\"titanic\")\n",
    "    sns.pointplot(x=\"sex\", y=\"survived\", color= 'seagreen', data= titanic_dataset)\n",
    "    plt.show()\n",
    "\n",
    "\n",
    "if __name__ == \"__main__\":\n",
    "    draw_point_plot()"
   ]
  },
  {
   "cell_type": "code",
   "execution_count": null,
   "metadata": {},
   "outputs": [],
   "source": []
  }
 ],
 "metadata": {
  "interpreter": {
   "hash": "916dbcbb3f70747c44a77c7bcd40155683ae19c65e1c03b4aa3499c5328201f1"
  },
  "kernelspec": {
   "display_name": "Python 3.8.10 64-bit",
   "language": "python",
   "name": "python3"
  },
  "language_info": {
   "codemirror_mode": {
    "name": "ipython",
    "version": 3
   },
   "file_extension": ".py",
   "mimetype": "text/x-python",
   "name": "python",
   "nbconvert_exporter": "python",
   "pygments_lexer": "ipython3",
   "version": "3.8.10"
  },
  "orig_nbformat": 4
 },
 "nbformat": 4,
 "nbformat_minor": 2
}
