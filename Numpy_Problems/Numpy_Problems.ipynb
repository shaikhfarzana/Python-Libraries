{
 "cells": [
  {
   "cell_type": "markdown",
   "metadata": {},
   "source": [
    "\"\"\"\n",
    "@Author: Farzana Shaikh\n",
    "@Date: 18-01-2022 04:00PM\n",
    "@Last Modified by: Farzana Shaikh\n",
    "@Last Modified time: 18-01-2022 04:00PM\n",
    "@Title : NumPy Problems\n",
    "\"\"\""
   ]
  },
  {
   "cell_type": "code",
   "execution_count": 63,
   "metadata": {},
   "outputs": [],
   "source": [
    "%run 'Logger.py'\n",
    "# Importing Logger Object from Logger.py"
   ]
  },
  {
   "cell_type": "markdown",
   "metadata": {},
   "source": [
    "\n",
    "1. Write a Python program to convert a list of numeric value into a one-dimensional NumPy array."
   ]
  },
  {
   "cell_type": "code",
   "execution_count": 48,
   "metadata": {},
   "outputs": [
    {
     "name": "stderr",
     "output_type": "stream",
     "text": [
      "DEBUG:root:Original List:[12.23, 13.32, 100, 36.32]\n",
      "DEBUG:root:One-dimensional NumPy array: [ 12.23  13.32 100.    36.32]\n"
     ]
    }
   ],
   "source": [
    "import numpy as np\n",
    "import logging\n",
    "logging.basicConfig(level=logging.DEBUG)\n",
    "\n",
    "\n",
    "def list_to_array():\n",
    "    \"\"\"\n",
    "       Description:\n",
    "          Function is used to convert list to array.\n",
    "       Parameter:\n",
    "          No parameter required.\n",
    "       Return:\n",
    "          Returns nothing.\n",
    "    \"\"\"\n",
    "    list1 = [12.23, 13.32, 100, 36.32]\n",
    "    logging.debug(\"Original List:{}\".format(list1))\n",
    "   #  np.array() is used to create an array.\n",
    "    new_array = np.array(list1)\n",
    "    logging.debug(\"One-dimensional NumPy array: {}\".format(new_array) )\n",
    "\n",
    "\n",
    "if __name__ == \"__main__\":\n",
    "    list_to_array()\n"
   ]
  },
  {
   "cell_type": "markdown",
   "metadata": {},
   "source": [
    "2. Create a 3x3 matrix with values ranging from 2 to 10."
   ]
  },
  {
   "cell_type": "code",
   "execution_count": 49,
   "metadata": {},
   "outputs": [
    {
     "name": "stderr",
     "output_type": "stream",
     "text": [
      "DEBUG:root:The array with given range is [[ 2  3  4]\n",
      " [ 5  6  7]\n",
      " [ 8  9 10]]\n"
     ]
    }
   ],
   "source": [
    "import numpy as np\n",
    "import logging\n",
    "logging.basicConfig(level=logging.DEBUG)\n",
    "\n",
    "\n",
    "def matrix_with_range():\n",
    "    \"\"\"\n",
    "       Description:\n",
    "          Function is used to create array matrix of given condition.\n",
    "       Parameter:\n",
    "          No parameter required.\n",
    "       Return:\n",
    "          Returns nothing.\n",
    "    \"\"\"\n",
    "   #  arange([start,] stop[, step,][, dtype]) : Returns an array with evenly spaced elements as per the interval.\n",
    "   # The numpy.reshape() function shapes an array without changing the data of the array.\n",
    "    new_array =  np.arange(2, 11).reshape(3,3)\n",
    "    logging.debug(\"The array with given range is {}\".format(new_array))\n",
    "\n",
    "\n",
    "if __name__ == \"__main__\":\n",
    "    matrix_with_range()"
   ]
  },
  {
   "cell_type": "markdown",
   "metadata": {},
   "source": [
    "3. Write a Python program to create a null vector of size 10 and update sixth value to 11."
   ]
  },
  {
   "cell_type": "code",
   "execution_count": 50,
   "metadata": {},
   "outputs": [
    {
     "name": "stderr",
     "output_type": "stream",
     "text": [
      "DEBUG:root:The array with given condition is [0. 0. 0. 0. 0. 0. 0. 0. 0. 0.]\n",
      "DEBUG:root:Update sixth value to 11\n",
      "DEBUG:root:The array with given condition is [ 0.  0.  0.  0.  0.  0. 11.  0.  0.  0.]\n"
     ]
    }
   ],
   "source": [
    "\n",
    "import numpy as np\n",
    "import logging\n",
    "logging.basicConfig(level=logging.DEBUG)\n",
    "\n",
    "\n",
    "def null_vector_specific_value_update():\n",
    "    \"\"\"\n",
    "       Description:\n",
    "          Function is used to create array with null vectors and update it with specific value at specific index.\n",
    "       Parameter:\n",
    "          No parameter required.\n",
    "       Return:\n",
    "          Returns nothing.\n",
    "    \"\"\"\n",
    "   #  The numpy.zeros() function returns a new array of given shape and type, with zeros.\n",
    "    new_array = np.zeros(10)\n",
    "    logging.debug(\"The array with given condition is {}\".format(new_array))\n",
    "    logging.debug(\"Update sixth value to 11\")\n",
    "    new_array[6] = 11\n",
    "    logging.debug(\"The array with given condition is {}\".format(new_array))\n",
    "\n",
    "\n",
    "if __name__ == \"__main__\":\n",
    "    null_vector_specific_value_update()"
   ]
  },
  {
   "cell_type": "markdown",
   "metadata": {},
   "source": [
    "4. Write a Python program to reverse an array (first element becomes last)."
   ]
  },
  {
   "cell_type": "code",
   "execution_count": 51,
   "metadata": {},
   "outputs": [
    {
     "name": "stderr",
     "output_type": "stream",
     "text": [
      "DEBUG:root:The Original array is [12 13 14 15 16 17 18 19 20 21 22 23 24 25 26 27 28 29 30 31 32 33 34 35\n",
      " 36 37]\n",
      "DEBUG:root:Reversed Array is [37 36 35 34 33 32 31 30 29 28 27 26 25 24 23 22 21 20 19 18 17 16 15 14\n",
      " 13 12]\n"
     ]
    }
   ],
   "source": [
    "\n",
    "import numpy as np\n",
    "import logging\n",
    "logging.basicConfig(level=logging.DEBUG)\n",
    "\n",
    "\n",
    "def reverse_array():\n",
    "    \"\"\"\n",
    "       Description:\n",
    "          Function is used to reverse an array.\n",
    "       Parameter:\n",
    "          No parameter required.\n",
    "       Return:\n",
    "          Returns nothing.\n",
    "    \"\"\"\n",
    "    new_array = np.arange(12, 38)\n",
    "    logging.debug(\"The Original array is {}\".format(new_array))\n",
    "   #  array slicing\n",
    "    reversed_array = new_array[::-1]\n",
    "    logging.debug(\"Reversed Array is {}\".format(reversed_array))\n",
    "\n",
    "\n",
    "if __name__ == \"__main__\":\n",
    "    reverse_array()"
   ]
  },
  {
   "cell_type": "markdown",
   "metadata": {},
   "source": [
    "5. Write a Python program to create a 2d array with 1 on the border and 0 inside."
   ]
  },
  {
   "cell_type": "code",
   "execution_count": 52,
   "metadata": {},
   "outputs": [
    {
     "name": "stderr",
     "output_type": "stream",
     "text": [
      "DEBUG:root:The Original array is [[1. 1. 1. 1. 1.]\n",
      " [1. 1. 1. 1. 1.]\n",
      " [1. 1. 1. 1. 1.]\n",
      " [1. 1. 1. 1. 1.]\n",
      " [1. 1. 1. 1. 1.]]\n",
      "DEBUG:root:1 on the border and 0 inside in the array \n",
      "[[1. 1. 1. 1. 1.]\n",
      " [1. 0. 0. 0. 1.]\n",
      " [1. 0. 0. 0. 1.]\n",
      " [1. 0. 0. 0. 1.]\n",
      " [1. 1. 1. 1. 1.]]\n"
     ]
    }
   ],
   "source": [
    "import numpy as np\n",
    "import logging\n",
    "logging.basicConfig(level=logging.DEBUG)\n",
    "\n",
    "\n",
    "def array_two_dimentional():\n",
    "    \"\"\"\n",
    "       Description:\n",
    "          Function is used to create two dimentional array with border of specific digit.\n",
    "       Parameter:\n",
    "          No parameter required.\n",
    "       Return:\n",
    "          Returns nothing.\n",
    "    \"\"\"\n",
    "   #  The numpy.ones() function returns a new array of given shape and type, with ones.\n",
    "    new_array = np.ones((5, 5))\n",
    "    logging.debug(\"The Original array is {}\".format(new_array))\n",
    "    new_array[1:-1, 1:-1] = 0\n",
    "    logging.debug(\"1 on the border and 0 inside in the array \\n{}\".format(new_array))\n",
    "\n",
    "\n",
    "if __name__ == \"__main__\":\n",
    "    array_two_dimentional()"
   ]
  },
  {
   "cell_type": "markdown",
   "metadata": {},
   "source": [
    "6. Write a Python program to add a border (filled with 0's) around an existing array."
   ]
  },
  {
   "cell_type": "code",
   "execution_count": 53,
   "metadata": {},
   "outputs": [
    {
     "name": "stderr",
     "output_type": "stream",
     "text": [
      "DEBUG:root:Original array: \n",
      " [[1. 1. 1.]\n",
      " [1. 1. 1.]\n",
      " [1. 1. 1.]]\n",
      "DEBUG:root:0 on the border and 1 inside in the array:\n",
      " [[0. 0. 0. 0. 0.]\n",
      " [0. 1. 1. 1. 0.]\n",
      " [0. 1. 1. 1. 0.]\n",
      " [0. 1. 1. 1. 0.]\n",
      " [0. 0. 0. 0. 0.]]\n"
     ]
    }
   ],
   "source": [
    "import numpy as np\n",
    "import logging\n",
    "logging.basicConfig(level=logging.DEBUG)\n",
    "\n",
    "def to_add_zeroes_in_an_array():\n",
    "    \"\"\"\n",
    "       Description:\n",
    "          Function is used to create matrix with zeroes at the border.\n",
    "       Parameter:\n",
    "          No parameter required.\n",
    "       Return:\n",
    "          Returns nothing.\n",
    "    \"\"\"\n",
    "    new_array = np.ones((3,3))\n",
    "    logging.debug(\"Original array: \\n {}\".format(new_array))\n",
    "   #  numpy.pad() function is used to pad the Numpy arrays. \n",
    "    new_array = np.pad(new_array, pad_width=1, mode='constant', constant_values=0)\n",
    "    logging.debug(\"0 on the border and 1 inside in the array:\\n {}\".format(new_array))\n",
    "\n",
    "if __name__ == \"__main__\":\n",
    "    to_add_zeroes_in_an_array()"
   ]
  },
  {
   "cell_type": "markdown",
   "metadata": {},
   "source": [
    "7. Write a Python program to create a 8x8 matrix and fill it with a checkerboard pattern."
   ]
  },
  {
   "cell_type": "code",
   "execution_count": 54,
   "metadata": {},
   "outputs": [
    {
     "name": "stderr",
     "output_type": "stream",
     "text": [
      "DEBUG:root:Checkerboard pattern:\n",
      " [[0 1 0 1 0 1 0 1]\n",
      " [1 0 1 0 1 0 1 0]\n",
      " [0 1 0 1 0 1 0 1]\n",
      " [1 0 1 0 1 0 1 0]\n",
      " [0 1 0 1 0 1 0 1]\n",
      " [1 0 1 0 1 0 1 0]\n",
      " [0 1 0 1 0 1 0 1]\n",
      " [1 0 1 0 1 0 1 0]]\n"
     ]
    }
   ],
   "source": [
    "import numpy as np\n",
    "import logging\n",
    "logging.basicConfig(level=logging.DEBUG)\n",
    "\n",
    "def checkerboard_pattern():\n",
    "    \"\"\"\n",
    "       Description:\n",
    "          Function is used to create matrix of checkerboard pattern.\n",
    "       Parameter:\n",
    "          No parameter required.\n",
    "       Return:\n",
    "          Returns nothing.\n",
    "    \"\"\"\n",
    "    new_array = np.zeros((8,8),dtype=int)\n",
    "    new_array[1::2,::2] = 1\n",
    "    new_array[::2,1::2] = 1\n",
    "    logging.debug(\"Checkerboard pattern:\\n {}\".format(new_array))\n",
    "   \n",
    "\n",
    "if __name__ == \"__main__\":\n",
    "    checkerboard_pattern()\n"
   ]
  },
  {
   "cell_type": "markdown",
   "metadata": {},
   "source": [
    "8. Write a Python program to convert a list and tuple into arrays."
   ]
  },
  {
   "cell_type": "code",
   "execution_count": 55,
   "metadata": {},
   "outputs": [
    {
     "name": "stderr",
     "output_type": "stream",
     "text": [
      "DEBUG:root:List to array: \n",
      " ['1' '2' '3' '4' '5' '6' '7' '8' 'Hello' 'Universe']\n",
      "DEBUG:root:Tuple to array:\n",
      " [[8 4 6]\n",
      " [1 2 3]]\n"
     ]
    }
   ],
   "source": [
    "import numpy as np\n",
    "import logging\n",
    "logging.basicConfig(level=logging.DEBUG)\n",
    "\n",
    "def list_to_array():\n",
    "    \"\"\"\n",
    "       Description:\n",
    "          Function is used to convert list to array.\n",
    "       Parameter:\n",
    "          No parameter required.\n",
    "       Return:\n",
    "          Returns nothing.\n",
    "    \"\"\"\n",
    "    new_list = [1, 2, 3, 4, 5, 6, 7, 8,\"Hello\", \"Universe\"]\n",
    "   #  numpy.asarray()function is used when we want to convert input to an array.\n",
    "    logging.debug(\"List to array: \\n {}\".format(np.asarray(new_list)))\n",
    "\n",
    "def tuple_to_array():\n",
    "    \"\"\"\n",
    "       Description:\n",
    "          Function is used to convert tuple to array.\n",
    "       Parameter:\n",
    "          No parameter required.\n",
    "       Return:\n",
    "          Returns nothing.\n",
    "    \"\"\"\n",
    "    new_tuple = ([8, 4, 6], [1, 2, 3])\n",
    "    logging.debug(\"Tuple to array:\\n {}\".format(np.asarray(new_tuple)))\n",
    "\n",
    "\n",
    "if __name__ == \"__main__\":\n",
    "    list_to_array()\n",
    "    tuple_to_array()"
   ]
  },
  {
   "cell_type": "markdown",
   "metadata": {},
   "source": [
    "9. Write a Python program to append values to the end of an array."
   ]
  },
  {
   "cell_type": "code",
   "execution_count": 56,
   "metadata": {},
   "outputs": [
    {
     "name": "stderr",
     "output_type": "stream",
     "text": [
      "DEBUG:root:Original array: \n",
      " [10, 20, 30]\n",
      "DEBUG:root:After append values to the end of the array:\n",
      " [10 20 30 40 50 60 70 80 90]\n"
     ]
    }
   ],
   "source": [
    "import numpy as np\n",
    "import logging\n",
    "logging.basicConfig(level=logging.DEBUG)\n",
    "\n",
    "def append_elements_to_array():\n",
    "    \"\"\"\n",
    "       Description:\n",
    "          Function is used to append elements to array.\n",
    "       Parameter:\n",
    "          No parameter required.\n",
    "       Return:\n",
    "          Returns nothing.\n",
    "    \"\"\"\n",
    "    new_array = [10, 20, 30]\n",
    "    logging.debug(\"Original array: \\n {}\".format(new_array))\n",
    "   #  The numpy.append() appends values along the mentioned axis at the end of the array\n",
    "    new_array = np.append(new_array, [[40, 50, 60], [70, 80, 90]])\n",
    "    logging.debug(\"After append values to the end of the array:\\n {}\".format(new_array))\n",
    "\n",
    "\n",
    "if __name__ == \"__main__\":\n",
    "    append_elements_to_array()"
   ]
  },
  {
   "cell_type": "markdown",
   "metadata": {},
   "source": [
    "10. Write a Python program to find the real and imaginary parts of an array of complex numbers."
   ]
  },
  {
   "cell_type": "code",
   "execution_count": 57,
   "metadata": {},
   "outputs": [
    {
     "name": "stderr",
     "output_type": "stream",
     "text": [
      "DEBUG:root:Original x_array: \n",
      " [1.+0.j]\n",
      "DEBUG:root:Original y_array: \n",
      " [0.70710678+0.70710678j]\n",
      "DEBUG:root:Real part of the x_array:\n",
      " [1.]\n",
      "DEBUG:root:Real part of the y_array:\n",
      " [0.70710678]\n",
      "DEBUG:root:Imaginary part of the X_array:\n",
      " [0.]\n",
      "DEBUG:root:Imaginary part of the y_array:\n",
      " [0.70710678]\n"
     ]
    }
   ],
   "source": [
    "import logging\n",
    "logging.basicConfig(level=logging.DEBUG)\n",
    "import numpy as np\n",
    "\n",
    "def to_find_real_and_imaginary_part_of_an_array():\n",
    "    \"\"\"\n",
    "       Description:\n",
    "          Function is used to get real and imaginary part of the equation.\n",
    "       Parameter:\n",
    "          No parameter required.\n",
    "       Return:\n",
    "          Returns nothing.\n",
    "    \"\"\"\n",
    "    x_array = np.sqrt([1+0j])\n",
    "    y_array = np.sqrt([0+1j])\n",
    "\n",
    "    logging.debug(\"Original x_array: \\n {}\".format(x_array))\n",
    "    logging.debug(\"Original y_array: \\n {}\".format(y_array))\n",
    "    logging.debug(\"Real part of the x_array:\\n {}\".format(x_array.real))\n",
    "    logging.debug(\"Real part of the y_array:\\n {}\".format(y_array.real))\n",
    "    logging.debug(\"Imaginary part of the X_array:\\n {}\".format(x_array.imag))\n",
    "    logging.debug(\"Imaginary part of the y_array:\\n {}\".format(y_array.imag))\n",
    "\n",
    "if __name__ == \"__main__\":\n",
    "    to_find_real_and_imaginary_part_of_an_array()\n"
   ]
  },
  {
   "cell_type": "markdown",
   "metadata": {},
   "source": [
    "11. Write a Python program to find the number of elements of an array, length of one array element in bytes and total bytes consumed by the elements."
   ]
  },
  {
   "cell_type": "code",
   "execution_count": 66,
   "metadata": {},
   "outputs": [
    {
     "name": "stderr",
     "output_type": "stream",
     "text": [
      "2022-01-18 20:21:28,145:Logger:Size of the an array:3 \n",
      "DEBUG:Logger:Size of the an array:3 \n",
      "2022-01-18 20:21:28,149:Logger:Length of one array element in bytes: 8 \n",
      "DEBUG:Logger:Length of one array element in bytes: 8 \n",
      "2022-01-18 20:21:28,152:Logger:Total bytes consumed by the elements of the an array: 24 \n",
      "DEBUG:Logger:Total bytes consumed by the elements of the an array: 24 \n"
     ]
    }
   ],
   "source": [
    "from Logger import logger\n",
    "import numpy as np\n",
    "\n",
    "def to_find_length_size_bytes_of_an_array():\n",
    "    \"\"\"\n",
    "       Description:\n",
    "          Function is used to find the length,size and bytes of an array.\n",
    "       Parameter:\n",
    "          No parameter required.\n",
    "       Return:\n",
    "          Returns nothing.\n",
    "    \"\"\"\n",
    "    new_array = np.array([1,2,3], dtype=np.float64)\n",
    "    logger.debug(\"Size of the an array:{} \".format(new_array.size))\n",
    "    logger.debug(\"Length of one array element in bytes: {} \".format(new_array.itemsize))\n",
    "    logger.debug(\"Total bytes consumed by the elements of the an array: {} \".format(new_array.nbytes))\n",
    "\n",
    "if __name__ == \"__main__\":\n",
    "    to_find_length_size_bytes_of_an_array()"
   ]
  },
  {
   "cell_type": "markdown",
   "metadata": {},
   "source": [
    "12. Write a Python program to find common values between two arrays."
   ]
  },
  {
   "cell_type": "code",
   "execution_count": 2,
   "metadata": {},
   "outputs": [
    {
     "name": "stderr",
     "output_type": "stream",
     "text": [
      "2022-01-19 00:57:57,606:Logger:Array1:\n",
      " [ 0 10 20 40 60]\n",
      "2022-01-19 00:57:57,608:Logger:Array2:\n",
      " [10, 30, 40]\n",
      "2022-01-19 00:57:57,610:Logger:Common values between two arrays:\n",
      " [10 40]\n"
     ]
    }
   ],
   "source": [
    "from Logger import logger\n",
    "import numpy as np\n",
    "\n",
    "def to_find_common_values_between_two_arrays():\n",
    "    \"\"\"\n",
    "       Description:\n",
    "          Function is used to find common elements between two arrays.\n",
    "       Parameter:\n",
    "          No parameter required.\n",
    "       Return:\n",
    "          Returns nothing.\n",
    "    \"\"\"\n",
    "    array1 = np.array([0, 10, 20, 40, 60])\n",
    "    logger.debug(\"Array1:\\n {}\".format(array1))\n",
    "    array2 = [10, 30, 40]\n",
    "    logger.debug(\"Array2:\\n {}\".format(array2))\n",
    "    # numpy.intersect1d() function find the intersection of two arrays and return the sorted, unique values that are in both of the input arrays.\n",
    "    logger.debug(\"Common values between two arrays:\\n {}\".format(np.intersect1d(array1, array2)))\n",
    "\n",
    "if __name__ == \"__main__\":\n",
    "    to_find_common_values_between_two_arrays()"
   ]
  },
  {
   "cell_type": "markdown",
   "metadata": {},
   "source": [
    "13. Write a Python program to find the set difference of two arrays. The set difference will return the sorted, unique values in array1 that are not in array2."
   ]
  },
  {
   "cell_type": "code",
   "execution_count": 2,
   "metadata": {},
   "outputs": [
    {
     "name": "stderr",
     "output_type": "stream",
     "text": [
      "2022-01-19 01:09:50,979:Logger:Array1: [ 0 10 20 40 60 80]\n",
      "2022-01-19 01:09:50,982:Logger:Array2: [10, 30, 40, 50, 70]\n",
      "2022-01-19 01:09:50,983:Logger:Unique values in array1 that are not in array2:[ 0 20 60 80]\n"
     ]
    }
   ],
   "source": [
    "from Logger import logger\n",
    "import numpy as np\n",
    "\n",
    "def to_find_difference_between_two_arrays():\n",
    "    \"\"\"\n",
    "       Description:\n",
    "          Function is used to find difference between two arrays.\n",
    "       Parameter:\n",
    "          No parameter required.\n",
    "       Return:\n",
    "          Returns nothing.\n",
    "    \"\"\"\n",
    "    array1 = np.array([0, 10, 20, 40, 60, 80])\n",
    "    logger.debug(\"Array1: {}\".format(array1))\n",
    "    array2 = [10, 30, 40, 50, 70]\n",
    "    logger.debug(\"Array2: {}\".format(array2))\n",
    "    # numpy.setdiff1d() function find the set difference of two arrays and return the unique values in arr1 that are not in arr2.\n",
    "    logger.debug(\"Unique values in Array1 that are not in Array2:{}\".format(np.setdiff1d(array1, array2)))\n",
    "\n",
    "if __name__ == \"__main__\":\n",
    "    to_find_difference_between_two_arrays()\n",
    "    \n"
   ]
  },
  {
   "cell_type": "markdown",
   "metadata": {},
   "source": [
    "14. Write a Python program to find the set exclusive-or of two arrays. Set exclusive-or will return the sorted, unique values that are in only one (not both) of the input arrays."
   ]
  },
  {
   "cell_type": "code",
   "execution_count": 1,
   "metadata": {},
   "outputs": [
    {
     "name": "stderr",
     "output_type": "stream",
     "text": [
      "2022-01-19 01:38:34,424:Logger:Array1: [ 0 10 20 40 60 80]\n",
      "2022-01-19 01:38:34,425:Logger:Array2: [10, 30, 40, 50, 70]\n",
      "2022-01-19 01:38:34,425:Logger:Unique values that are in only one (not both) of the input arrays: [ 0 20 30 50 60 70 80]\n"
     ]
    }
   ],
   "source": [
    "from Logger import logger\n",
    "import numpy as np\n",
    "\n",
    "def to_find_set_exclusive_or_of_two_arrays():\n",
    "    \"\"\"\n",
    "       Description:\n",
    "          Function is used to find set exclusive-or of two arrays.\n",
    "       Parameter:\n",
    "          No parameter required.\n",
    "       Return:\n",
    "          Returns nothing.\n",
    "    \"\"\"\n",
    "    array1 = np.array([0, 10, 20, 40, 60, 80])\n",
    "    logger.debug(\"Array1: {}\".format(array1))\n",
    "    array2 = [10, 30, 40, 50, 70]\n",
    "    logger.debug(\"Array2: {}\".format(array2))\n",
    "    \n",
    "    # numpy.setxor1d() function find the set exclusive-or of two arrays and return the sorted, unique values that are in only one (not both) of the input arrays.\n",
    "    logger.debug(\"Unique values that are in only one (not both) of the input arrays: {}\".format(np.setxor1d(array1, array2)))\n",
    "\n",
    "if __name__ == \"__main__\":\n",
    "    to_find_set_exclusive_or_of_two_arrays()\n",
    "\n"
   ]
  },
  {
   "cell_type": "markdown",
   "metadata": {},
   "source": [
    "15. Write a Python program compare two arrays using numpy."
   ]
  },
  {
   "cell_type": "code",
   "execution_count": 18,
   "metadata": {},
   "outputs": [
    {
     "name": "stderr",
     "output_type": "stream",
     "text": [
      "2022-01-19 01:55:17,068:Logger:Array a: [1 2]\n",
      "2022-01-19 01:55:17,070:Logger:Array b: [4 5]\n",
      "2022-01-19 01:55:17,072:Logger:Comparison of two arrays (a > b)\n",
      "2022-01-19 01:55:17,073:Logger:[False False]\n",
      "2022-01-19 01:55:17,075:Logger:Comparison of two arrays (a >= b)\n",
      "2022-01-19 01:55:17,076:Logger:[False False]\n",
      "2022-01-19 01:55:17,077:Logger:Comparison of two arrays (a < b)\n",
      "2022-01-19 01:55:17,078:Logger:[ True  True]\n",
      "2022-01-19 01:55:17,080:Logger:Comparison of two arrays (a <= b)\n",
      "2022-01-19 01:55:17,080:Logger:[ True  True]\n"
     ]
    }
   ],
   "source": [
    "from Logger import logger\n",
    "import numpy as np\n",
    "\n",
    "def to_compare_two_arrays():\n",
    "    \"\"\"\n",
    "       Description:\n",
    "          Function is used to compare two arrays.\n",
    "       Parameter:\n",
    "          No parameter required.\n",
    "       Return:\n",
    "          Returns nothing.\n",
    "    \"\"\"\n",
    "    a = np.array([1, 2])\n",
    "    b = np.array([4, 5])\n",
    "    logger.debug(\"Array a: {}\".format(a))\n",
    "    logger.debug(\"Array b: {}\".format(b))\n",
    "    logger.debug(\"Comparison of two arrays (a > b)\")\n",
    "    logger.debug(np.greater(a, b))\n",
    "    logger.debug(\"Comparison of two arrays (a >= b)\")\n",
    "    logger.debug(np.greater_equal(a, b))\n",
    "    logger.debug(\"Comparison of two arrays (a < b)\")\n",
    "    logger.debug(np.less(a, b))\n",
    "    logger.debug(\"Comparison of two arrays (a <= b)\")\n",
    "    logger.debug(np.less_equal(a, b))\n",
    "\n",
    "if __name__ == \"__main__\":\n",
    "    to_compare_two_arrays()"
   ]
  },
  {
   "cell_type": "markdown",
   "metadata": {},
   "source": [
    "16. Write a Python program to save a NumPy array to a text file."
   ]
  },
  {
   "cell_type": "code",
   "execution_count": 23,
   "metadata": {},
   "outputs": [
    {
     "name": "stderr",
     "output_type": "stream",
     "text": [
      "2022-01-19 02:10:19,110:Logger:Original array: \n",
      " [[ 0  1  2]\n",
      " [ 3  4  5]\n",
      " [ 6  7  8]\n",
      " [ 9 10 11]]\n",
      "2022-01-19 02:10:19,116:Logger:After loading, content of the text file:\n",
      " [[ 0.  1.  2.]\n",
      " [ 3.  4.  5.]\n",
      " [ 6.  7.  8.]\n",
      " [ 9. 10. 11.]]\n"
     ]
    }
   ],
   "source": [
    "from Logger import logger\n",
    "import numpy as np\n",
    "import os\n",
    "\n",
    "def to_save_a_numpy_array_text_file():\n",
    "    \"\"\"\n",
    "       Description:\n",
    "          Function is used to save a NumPy array to a text file.\n",
    "       Parameter:\n",
    "          No parameter required.\n",
    "       Return:\n",
    "          Returns nothing.\n",
    "    \"\"\"\n",
    "    \n",
    "    new_array = np.arange(12).reshape(4, 3)\n",
    "    logger.debug(\"Original array: \\n {}\".format(new_array))\n",
    "    header = 'col1 col2 col3'\n",
    "    np.savetxt('temp.txt', new_array, fmt=\"%d\", header=header) \n",
    "    # numpy.load() in Python is used load data from a text file, with aim to be a fast reader for simple text files.\n",
    "    result = np.loadtxt('temp.txt')\n",
    "    logger.debug(\"After loading, content of the text file:\\n {}\".format(result))\n",
    "\n",
    "    \n",
    "if __name__ == \"__main__\":\n",
    "    to_save_a_numpy_array_text_file()\n"
   ]
  },
  {
   "cell_type": "markdown",
   "metadata": {},
   "source": [
    "17. Write a Python program to create a contiguous flattened array."
   ]
  },
  {
   "cell_type": "code",
   "execution_count": 25,
   "metadata": {},
   "outputs": [
    {
     "name": "stderr",
     "output_type": "stream",
     "text": [
      "2022-01-19 02:19:07,886:Logger:Original array:\n",
      " [[10 20 30]\n",
      " [20 40 50]]\n",
      "2022-01-19 02:19:07,888:Logger:New flattened array:\n",
      " [10 20 30 20 40 50]\n"
     ]
    }
   ],
   "source": [
    "from Logger import logger\n",
    "import numpy as np\n",
    "\n",
    "def to_create_contagious_flattened_array():\n",
    "    \"\"\"\n",
    "       Description:\n",
    "          Function is used to create contagious flattened array.\n",
    "       Parameter:\n",
    "          No parameter required.\n",
    "       Return:\n",
    "          Returns nothing.\n",
    "    \"\"\"\n",
    "    new_array = np.array([[10, 20, 30], [20, 40, 50]])\n",
    "    logger.debug(\"Original array:\\n {}\".format(new_array))\n",
    "    array_y = np.ravel(new_array)\n",
    "    logger.debug(\"New flattened array:\\n {}\".format(array_y))\n",
    "  \n",
    "\n",
    "if __name__ == \"__main__\":\n",
    "    to_create_contagious_flattened_array()"
   ]
  },
  {
   "cell_type": "markdown",
   "metadata": {},
   "source": [
    "18. Write a Python program to change the data type of an array."
   ]
  },
  {
   "cell_type": "code",
   "execution_count": 29,
   "metadata": {},
   "outputs": [
    {
     "name": "stderr",
     "output_type": "stream",
     "text": [
      "2022-01-19 02:30:18,407:Logger:The Array1 is \n",
      "[[ 2  4  6]\n",
      " [ 6  8 10]]\n",
      "2022-01-19 02:30:18,408:Logger:Data type of the array1 is:int32\n",
      "2022-01-19 02:30:18,409:Logger:New Data Type of an Array is : float64\n",
      "2022-01-19 02:30:18,410:Logger:The New Array is \n",
      " [[ 2.  4.  6.]\n",
      " [ 6.  8. 10.]]\n"
     ]
    }
   ],
   "source": [
    "from Logger import logger\n",
    "import numpy as np\n",
    "\n",
    "def to_change_data_type_of_an_array():\n",
    "    \"\"\"\n",
    "       Description:\n",
    "          Function is used to change the data type of an array.\n",
    "       Parameter:\n",
    "          No parameter required.\n",
    "       Return:\n",
    "          Returns nothing.\n",
    "    \"\"\"\n",
    "    array1 = np.array([[2, 4, 6], [6, 8, 10]], np.int32)\n",
    "    logger.debug(\"The Array1 is \\n{}\".format(array1))\n",
    "    logger.debug(\"Data type of the array1 is:{}\".format(array1.dtype))\n",
    "    # Change the data type of array1\n",
    "    new_array = array1.astype('float64')\n",
    "    logger.debug(\"New Data Type of an Array is : {}\".format(new_array.dtype))\n",
    "    logger.debug(\"The New Array is \\n {}\".format(new_array))\n",
    "\n",
    "if __name__ == \"__main__\":\n",
    "    to_change_data_type_of_an_array()\n"
   ]
  },
  {
   "cell_type": "markdown",
   "metadata": {},
   "source": []
  },
  {
   "cell_type": "markdown",
   "metadata": {},
   "source": [
    "19.Write a Python program to create a 3-D array with ones on a diagonal and zeros elsewhere."
   ]
  },
  {
   "cell_type": "code",
   "execution_count": 34,
   "metadata": {},
   "outputs": [
    {
     "name": "stderr",
     "output_type": "stream",
     "text": [
      "2022-01-19 02:41:20,111:Logger:The aray with ones on a diagonal is \n",
      " [[1. 0. 0.]\n",
      " [0. 1. 0.]\n",
      " [0. 0. 1.]]\n"
     ]
    }
   ],
   "source": [
    "from Logger import logger\n",
    "import numpy as np\n",
    "\n",
    "def to_create_3D_array_with_ones_on_a_diagonal():\n",
    "    \"\"\"\n",
    "       Description:\n",
    "          Function is used to create 3D array with ones on a diagonal.\n",
    "       Parameter:\n",
    "          No parameter required.\n",
    "       Return:\n",
    "          Returns nothing.\n",
    "    \"\"\"\n",
    "    new_array = np.eye(3)\n",
    "    logger.debug(\"The aray with ones on a diagonal is \\n {}\".format(new_array))\n",
    "\n",
    "if __name__ == \"__main__\":\n",
    "   to_create_3D_array_with_ones_on_a_diagonal()"
   ]
  },
  {
   "cell_type": "markdown",
   "metadata": {},
   "source": [
    "20. Write a Python program to create an array which looks like below array.(lower triangular matrix)"
   ]
  },
  {
   "cell_type": "code",
   "execution_count": 38,
   "metadata": {},
   "outputs": [
    {
     "name": "stderr",
     "output_type": "stream",
     "text": [
      "2022-01-19 03:04:23,836:Logger:The lower triangular matrix is \n",
      "[[0. 0. 0.]\n",
      " [1. 0. 0.]\n",
      " [1. 1. 0.]\n",
      " [1. 1. 1.]]\n"
     ]
    }
   ],
   "source": [
    "from Logger import logger\n",
    "import numpy as np\n",
    "\n",
    "def to_create_array_with_lower_triangular_matrix():\n",
    "    \"\"\"\n",
    "       Description:\n",
    "          Function is used to create array with lower traingular matrix.\n",
    "       Parameter:\n",
    "          No parameter required.\n",
    "       Return:\n",
    "          Returns nothing.\n",
    "    \"\"\"\n",
    "    new_array = np.tri(4, 3, -1)\n",
    "    # numpy.tri(): Creates an array with 1’s at and below the given diagonal(about k) and 0’s elsewhere.\n",
    "    logger.debug(\"The lower triangular matrix is \\n{}\".format(new_array))\n",
    "\n",
    "if __name__ == \"__main__\":\n",
    "    to_create_array_with_lower_triangular_matrix()\n"
   ]
  },
  {
   "cell_type": "markdown",
   "metadata": {},
   "source": [
    "21. Write a Python program to concatenate two 2-dimensional arrays."
   ]
  },
  {
   "cell_type": "code",
   "execution_count": 40,
   "metadata": {},
   "outputs": [
    {
     "name": "stderr",
     "output_type": "stream",
     "text": [
      "2022-01-19 03:10:37,777:Logger:The concatenated array is \n",
      " [[ 0  1  3  0  2  4]\n",
      " [ 5  7  9  6  8 10]]\n"
     ]
    }
   ],
   "source": [
    "from Logger import logger\n",
    "import numpy as np\n",
    "\n",
    "def to_concatenate_two_2_dimentional_arrays():\n",
    "    \"\"\"\n",
    "       Description:\n",
    "          Function is used to concatenate two 2-dimentional arrays.\n",
    "       Parameter:\n",
    "          No parameter required.\n",
    "       Return:\n",
    "          Returns nothing.\n",
    "    \"\"\"\n",
    "    array_a = np.array([[0, 1, 3], [5, 7, 9]])\n",
    "    array_b = np.array([[0, 2, 4], [6, 8, 10]])\n",
    "    array_c = np.concatenate((array_a, array_b), 1)\n",
    "    logger.debug(\"The concatenated array is \\n {}\".format(array_c))\n",
    "\n",
    "if __name__ == \"__main__\":\n",
    "    to_concatenate_two_2_dimentional_arrays()\n"
   ]
  },
  {
   "cell_type": "markdown",
   "metadata": {},
   "source": [
    "22. Write a Python program to make an array immutable (read-only)."
   ]
  },
  {
   "cell_type": "code",
   "execution_count": 45,
   "metadata": {},
   "outputs": [
    {
     "name": "stderr",
     "output_type": "stream",
     "text": [
      "2022-01-19 03:16:14,140:Logger:Test the array is read-only or not:\n",
      "2022-01-19 03:16:14,142:Logger:Try to change the value of the first element:\n"
     ]
    },
    {
     "ename": "ValueError",
     "evalue": "assignment destination is read-only",
     "output_type": "error",
     "traceback": [
      "\u001b[0;31m---------------------------------------------------------------------------\u001b[0m",
      "\u001b[0;31mValueError\u001b[0m                                Traceback (most recent call last)",
      "Input \u001b[0;32mIn [45]\u001b[0m, in \u001b[0;36m<module>\u001b[0;34m\u001b[0m\n\u001b[1;32m     17\u001b[0m     new_array[\u001b[38;5;241m0\u001b[39m] \u001b[38;5;241m=\u001b[39m \u001b[38;5;241m1\u001b[39m\n\u001b[1;32m     19\u001b[0m \u001b[38;5;28;01mif\u001b[39;00m \u001b[38;5;18m__name__\u001b[39m \u001b[38;5;241m==\u001b[39m \u001b[38;5;124m\"\u001b[39m\u001b[38;5;124m__main__\u001b[39m\u001b[38;5;124m\"\u001b[39m:\n\u001b[0;32m---> 20\u001b[0m     \u001b[43mto_make_an_array_immutable\u001b[49m\u001b[43m(\u001b[49m\u001b[43m)\u001b[49m\n",
      "Input \u001b[0;32mIn [45]\u001b[0m, in \u001b[0;36mto_make_an_array_immutable\u001b[0;34m()\u001b[0m\n\u001b[1;32m     15\u001b[0m logger\u001b[38;5;241m.\u001b[39mdebug(\u001b[38;5;124m\"\u001b[39m\u001b[38;5;124mTest the array is read-only or not:\u001b[39m\u001b[38;5;124m\"\u001b[39m)\n\u001b[1;32m     16\u001b[0m logger\u001b[38;5;241m.\u001b[39mdebug(\u001b[38;5;124m\"\u001b[39m\u001b[38;5;124mTry to change the value of the first element:\u001b[39m\u001b[38;5;124m\"\u001b[39m)\n\u001b[0;32m---> 17\u001b[0m new_array[\u001b[38;5;241m0\u001b[39m] \u001b[38;5;241m=\u001b[39m \u001b[38;5;241m1\u001b[39m\n",
      "\u001b[0;31mValueError\u001b[0m: assignment destination is read-only"
     ]
    }
   ],
   "source": [
    "from Logger import logger\n",
    "import numpy as np\n",
    "\n",
    "def to_make_an_array_immutable():\n",
    "    \"\"\"\n",
    "       Description:\n",
    "          Function is used to make an array immutable.\n",
    "       Parameter:\n",
    "          No parameter required.\n",
    "       Return:\n",
    "          Returns nothing.\n",
    "    \"\"\"\n",
    "    new_array = np.zeros(10)\n",
    "    new_array.flags.writeable = False\n",
    "    logger.debug(\"Test the array is read-only or not:\")\n",
    "    logger.debug(\"Try to change the value of the first element:\")\n",
    "    new_array[0] = 1\n",
    "\n",
    "if __name__ == \"__main__\":\n",
    "    to_make_an_array_immutable()\n"
   ]
  },
  {
   "cell_type": "markdown",
   "metadata": {},
   "source": [
    "23.Write a Python program to create an array of (3, 4) shape, multiply every element value by 3 and display the new array."
   ]
  },
  {
   "cell_type": "code",
   "execution_count": 46,
   "metadata": {},
   "outputs": [
    {
     "name": "stderr",
     "output_type": "stream",
     "text": [
      "2022-01-19 03:24:07,633:Logger:Original array elements:\n",
      " [[ 0  1  2  3]\n",
      " [ 4  5  6  7]\n",
      " [ 8  9 10 11]]\n",
      "2022-01-19 03:24:07,636:Logger:New array elements:\n",
      " [[ 0  3  6  9]\n",
      " [12 15 18 21]\n",
      " [24 27 30 33]]\n"
     ]
    }
   ],
   "source": [
    "from Logger import logger\n",
    "import numpy as np\n",
    "\n",
    "def to_multiply_array_element_by_any_digit():\n",
    "   \"\"\"\n",
    "       Description:\n",
    "          Function is used to  multiply array element with the digit.\n",
    "       Parameter:\n",
    "          No parameter required.\n",
    "       Return:\n",
    "          Returns nothing.\n",
    "    \"\"\"\n",
    "   new_array= np.arange(12).reshape(3, 4)\n",
    "   logger.debug(\"Original array elements:\\n {}\".format(new_array))\n",
    "   for a in np.nditer(new_array, op_flags=['readwrite']):\n",
    "      a[...] = 3 * a\n",
    "   logger.debug(\"New array elements:\\n {}\".format(new_array))\n",
    "  \n",
    "\n",
    "if __name__ == \"__main__\":\n",
    "   to_multiply_array_element_by_any_digit()\n"
   ]
  },
  {
   "cell_type": "markdown",
   "metadata": {},
   "source": [
    "24. Write a Python program to convert a NumPy array into Python list structure.\n"
   ]
  },
  {
   "cell_type": "code",
   "execution_count": 50,
   "metadata": {},
   "outputs": [
    {
     "name": "stderr",
     "output_type": "stream",
     "text": [
      "2022-01-19 03:31:14,776:Logger:Original array elements:\n",
      " [[0 1]\n",
      " [2 3]\n",
      " [4 5]]\n",
      "2022-01-19 03:31:14,778:Logger:Array to list: \n",
      " [[0, 1], [2, 3], [4, 5]]\n"
     ]
    }
   ],
   "source": [
    "from Logger import logger\n",
    "import numpy as np\n",
    "\n",
    "def to_convert_numpy_array_to_python_list():\n",
    "   \"\"\"\n",
    "       Description:\n",
    "          Function is used to  convert NumPy array into Python list structure.\n",
    "       Parameter:\n",
    "          No parameter required.\n",
    "       Return:\n",
    "          Returns nothing.\n",
    "   \"\"\"\n",
    "new_array= np.arange(6).reshape(3, 2)\n",
    "logger.debug(\"Original array elements:\\n {}\".format(new_array))\n",
    "logger.debug(\"Array to list: \\n {}\".format(new_array.tolist()))\n",
    "\n",
    "\n",
    "if __name__ == \"__main__\":\n",
    "    to_convert_numpy_array_to_python_list()\n"
   ]
  },
  {
   "cell_type": "markdown",
   "metadata": {},
   "source": [
    "25. Write a Python program to convert a NumPy array into Python list structure."
   ]
  },
  {
   "cell_type": "code",
   "execution_count": 52,
   "metadata": {},
   "outputs": [
    {
     "name": "stderr",
     "output_type": "stream",
     "text": [
      "2022-01-19 03:37:47,391:Logger:Original array elements:\n",
      " [0.262 0.528 0.572 0.593 0.783 0.697 0.354 0.995 0.069 0.547]\n",
      "2022-01-19 03:37:47,393:Logger:Print array values with precision 3:\n",
      "2022-01-19 03:37:47,394:Logger:[0.262 0.528 0.572 0.593 0.783 0.697 0.354 0.995 0.069 0.547]\n"
     ]
    }
   ],
   "source": [
    "from Logger import logger\n",
    "import numpy as np\n",
    "\n",
    "def to_convert_numpy_array_to_python_list():\n",
    "  \"\"\"\n",
    "       Description:\n",
    "          Function is used to  convert NumPy array into Python list structure.\n",
    "       Parameter:\n",
    "          No parameter required.\n",
    "       Return:\n",
    "          Returns nothing.\n",
    "   \"\"\"\n",
    "  new_array =np.array([ 0.26153123, 0.52760141, 0.5718299, 0.5927067, 0.7831874, 0.69746349,             \n",
    "    0.35399976, 0.99469633, 0.0694458, 0.54711478]) \n",
    "  logger.debug(\"Original array elements:\\n {}\".format(new_array))\n",
    "  logger.debug(\"Print array values with precision 3:\")\n",
    "  np.set_printoptions(precision=3)\n",
    "  logger.debug(new_array)\n",
    "\n",
    "if __name__ == \"__main__\":\n",
    "  to_convert_numpy_array_to_python_list()\n"
   ]
  },
  {
   "cell_type": "code",
   "execution_count": null,
   "metadata": {},
   "outputs": [],
   "source": []
  }
 ],
 "metadata": {
  "interpreter": {
   "hash": "916dbcbb3f70747c44a77c7bcd40155683ae19c65e1c03b4aa3499c5328201f1"
  },
  "kernelspec": {
   "display_name": "Python 3.8.10 64-bit",
   "language": "python",
   "name": "python3"
  },
  "language_info": {
   "codemirror_mode": {
    "name": "ipython",
    "version": 3
   },
   "file_extension": ".py",
   "mimetype": "text/x-python",
   "name": "python",
   "nbconvert_exporter": "python",
   "pygments_lexer": "ipython3",
   "version": "3.8.10"
  },
  "orig_nbformat": 4
 },
 "nbformat": 4,
 "nbformat_minor": 2
}
