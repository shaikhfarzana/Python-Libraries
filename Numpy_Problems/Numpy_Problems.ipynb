{
 "cells": [
  {
   "cell_type": "markdown",
   "metadata": {},
   "source": [
    "\"\"\"\n",
    "@Author: Farzana Shaikh\n",
    "@Date: 18-01-2022 04:00PM\n",
    "@Last Modified by: Farzana Shaikh\n",
    "@Last Modified time: 18-01-2022 04:00PM\n",
    "@Title : NumPy Problems\n",
    "\"\"\""
   ]
  },
  {
   "cell_type": "code",
   "execution_count": 63,
   "metadata": {},
   "outputs": [],
   "source": [
    "%run 'Logger.py'\n",
    "# Importing Logger Object from Logger.py"
   ]
  },
  {
   "cell_type": "markdown",
   "metadata": {},
   "source": [
    "\n",
    "1. Write a Python program to convert a list of numeric value into a one-dimensional NumPy array."
   ]
  },
  {
   "cell_type": "code",
   "execution_count": 48,
   "metadata": {},
   "outputs": [
    {
     "name": "stderr",
     "output_type": "stream",
     "text": [
      "DEBUG:root:Original List:[12.23, 13.32, 100, 36.32]\n",
      "DEBUG:root:One-dimensional NumPy array: [ 12.23  13.32 100.    36.32]\n"
     ]
    }
   ],
   "source": [
    "import numpy as np\n",
    "import logging\n",
    "logging.basicConfig(level=logging.DEBUG)\n",
    "\n",
    "\n",
    "def list_to_array():\n",
    "    \"\"\"\n",
    "       Description:\n",
    "          Function is used to convert list to array.\n",
    "       Parameter:\n",
    "          No parameter required.\n",
    "       Return:\n",
    "          Returns nothing.\n",
    "    \"\"\"\n",
    "    list1 = [12.23, 13.32, 100, 36.32]\n",
    "    logging.debug(\"Original List:{}\".format(list1))\n",
    "   #  np.array() is used to create an array.\n",
    "    new_array = np.array(list1)\n",
    "    logging.debug(\"One-dimensional NumPy array: {}\".format(new_array) )\n",
    "\n",
    "\n",
    "if __name__ == \"__main__\":\n",
    "    list_to_array()\n"
   ]
  },
  {
   "cell_type": "markdown",
   "metadata": {},
   "source": [
    "2. Create a 3x3 matrix with values ranging from 2 to 10."
   ]
  },
  {
   "cell_type": "code",
   "execution_count": 49,
   "metadata": {},
   "outputs": [
    {
     "name": "stderr",
     "output_type": "stream",
     "text": [
      "DEBUG:root:The array with given range is [[ 2  3  4]\n",
      " [ 5  6  7]\n",
      " [ 8  9 10]]\n"
     ]
    }
   ],
   "source": [
    "import numpy as np\n",
    "import logging\n",
    "logging.basicConfig(level=logging.DEBUG)\n",
    "\n",
    "\n",
    "def matrix_with_range():\n",
    "    \"\"\"\n",
    "       Description:\n",
    "          Function is used to create array matrix of given condition.\n",
    "       Parameter:\n",
    "          No parameter required.\n",
    "       Return:\n",
    "          Returns nothing.\n",
    "    \"\"\"\n",
    "   #  arange([start,] stop[, step,][, dtype]) : Returns an array with evenly spaced elements as per the interval.\n",
    "   # The numpy.reshape() function shapes an array without changing the data of the array.\n",
    "    new_array =  np.arange(2, 11).reshape(3,3)\n",
    "    logging.debug(\"The array with given range is {}\".format(new_array))\n",
    "\n",
    "\n",
    "if __name__ == \"__main__\":\n",
    "    matrix_with_range()"
   ]
  },
  {
   "cell_type": "markdown",
   "metadata": {},
   "source": [
    "3. Write a Python program to create a null vector of size 10 and update sixth value to 11."
   ]
  },
  {
   "cell_type": "code",
   "execution_count": 50,
   "metadata": {},
   "outputs": [
    {
     "name": "stderr",
     "output_type": "stream",
     "text": [
      "DEBUG:root:The array with given condition is [0. 0. 0. 0. 0. 0. 0. 0. 0. 0.]\n",
      "DEBUG:root:Update sixth value to 11\n",
      "DEBUG:root:The array with given condition is [ 0.  0.  0.  0.  0.  0. 11.  0.  0.  0.]\n"
     ]
    }
   ],
   "source": [
    "\n",
    "import numpy as np\n",
    "import logging\n",
    "logging.basicConfig(level=logging.DEBUG)\n",
    "\n",
    "\n",
    "def null_vector_specific_value_update():\n",
    "    \"\"\"\n",
    "       Description:\n",
    "          Function is used to create array with null vectors and update it with specific value at specific index.\n",
    "       Parameter:\n",
    "          No parameter required.\n",
    "       Return:\n",
    "          Returns nothing.\n",
    "    \"\"\"\n",
    "   #  The numpy.zeros() function returns a new array of given shape and type, with zeros.\n",
    "    new_array = np.zeros(10)\n",
    "    logging.debug(\"The array with given condition is {}\".format(new_array))\n",
    "    logging.debug(\"Update sixth value to 11\")\n",
    "    new_array[6] = 11\n",
    "    logging.debug(\"The array with given condition is {}\".format(new_array))\n",
    "\n",
    "\n",
    "if __name__ == \"__main__\":\n",
    "    null_vector_specific_value_update()"
   ]
  },
  {
   "cell_type": "markdown",
   "metadata": {},
   "source": [
    "4. Write a Python program to reverse an array (first element becomes last)."
   ]
  },
  {
   "cell_type": "code",
   "execution_count": 51,
   "metadata": {},
   "outputs": [
    {
     "name": "stderr",
     "output_type": "stream",
     "text": [
      "DEBUG:root:The Original array is [12 13 14 15 16 17 18 19 20 21 22 23 24 25 26 27 28 29 30 31 32 33 34 35\n",
      " 36 37]\n",
      "DEBUG:root:Reversed Array is [37 36 35 34 33 32 31 30 29 28 27 26 25 24 23 22 21 20 19 18 17 16 15 14\n",
      " 13 12]\n"
     ]
    }
   ],
   "source": [
    "\n",
    "import numpy as np\n",
    "import logging\n",
    "logging.basicConfig(level=logging.DEBUG)\n",
    "\n",
    "\n",
    "def reverse_array():\n",
    "    \"\"\"\n",
    "       Description:\n",
    "          Function is used to reverse an array.\n",
    "       Parameter:\n",
    "          No parameter required.\n",
    "       Return:\n",
    "          Returns nothing.\n",
    "    \"\"\"\n",
    "    new_array = np.arange(12, 38)\n",
    "    logging.debug(\"The Original array is {}\".format(new_array))\n",
    "   #  array slicing\n",
    "    reversed_array = new_array[::-1]\n",
    "    logging.debug(\"Reversed Array is {}\".format(reversed_array))\n",
    "\n",
    "\n",
    "if __name__ == \"__main__\":\n",
    "    reverse_array()"
   ]
  },
  {
   "cell_type": "markdown",
   "metadata": {},
   "source": [
    "5. Write a Python program to create a 2d array with 1 on the border and 0 inside."
   ]
  },
  {
   "cell_type": "code",
   "execution_count": 52,
   "metadata": {},
   "outputs": [
    {
     "name": "stderr",
     "output_type": "stream",
     "text": [
      "DEBUG:root:The Original array is [[1. 1. 1. 1. 1.]\n",
      " [1. 1. 1. 1. 1.]\n",
      " [1. 1. 1. 1. 1.]\n",
      " [1. 1. 1. 1. 1.]\n",
      " [1. 1. 1. 1. 1.]]\n",
      "DEBUG:root:1 on the border and 0 inside in the array \n",
      "[[1. 1. 1. 1. 1.]\n",
      " [1. 0. 0. 0. 1.]\n",
      " [1. 0. 0. 0. 1.]\n",
      " [1. 0. 0. 0. 1.]\n",
      " [1. 1. 1. 1. 1.]]\n"
     ]
    }
   ],
   "source": [
    "import numpy as np\n",
    "import logging\n",
    "logging.basicConfig(level=logging.DEBUG)\n",
    "\n",
    "\n",
    "def array_two_dimentional():\n",
    "    \"\"\"\n",
    "       Description:\n",
    "          Function is used to create two dimentional array with border of specific digit.\n",
    "       Parameter:\n",
    "          No parameter required.\n",
    "       Return:\n",
    "          Returns nothing.\n",
    "    \"\"\"\n",
    "   #  The numpy.ones() function returns a new array of given shape and type, with ones.\n",
    "    new_array = np.ones((5, 5))\n",
    "    logging.debug(\"The Original array is {}\".format(new_array))\n",
    "    new_array[1:-1, 1:-1] = 0\n",
    "    logging.debug(\"1 on the border and 0 inside in the array \\n{}\".format(new_array))\n",
    "\n",
    "\n",
    "if __name__ == \"__main__\":\n",
    "    array_two_dimentional()"
   ]
  },
  {
   "cell_type": "markdown",
   "metadata": {},
   "source": [
    "6. Write a Python program to add a border (filled with 0's) around an existing array."
   ]
  },
  {
   "cell_type": "code",
   "execution_count": 53,
   "metadata": {},
   "outputs": [
    {
     "name": "stderr",
     "output_type": "stream",
     "text": [
      "DEBUG:root:Original array: \n",
      " [[1. 1. 1.]\n",
      " [1. 1. 1.]\n",
      " [1. 1. 1.]]\n",
      "DEBUG:root:0 on the border and 1 inside in the array:\n",
      " [[0. 0. 0. 0. 0.]\n",
      " [0. 1. 1. 1. 0.]\n",
      " [0. 1. 1. 1. 0.]\n",
      " [0. 1. 1. 1. 0.]\n",
      " [0. 0. 0. 0. 0.]]\n"
     ]
    }
   ],
   "source": [
    "import numpy as np\n",
    "import logging\n",
    "logging.basicConfig(level=logging.DEBUG)\n",
    "\n",
    "def to_add_zeroes_in_an_array():\n",
    "    \"\"\"\n",
    "       Description:\n",
    "          Function is used to create matrix with zeroes at the border.\n",
    "       Parameter:\n",
    "          No parameter required.\n",
    "       Return:\n",
    "          Returns nothing.\n",
    "    \"\"\"\n",
    "    new_array = np.ones((3,3))\n",
    "    logging.debug(\"Original array: \\n {}\".format(new_array))\n",
    "   #  numpy.pad() function is used to pad the Numpy arrays. \n",
    "    new_array = np.pad(new_array, pad_width=1, mode='constant', constant_values=0)\n",
    "    logging.debug(\"0 on the border and 1 inside in the array:\\n {}\".format(new_array))\n",
    "\n",
    "if __name__ == \"__main__\":\n",
    "    to_add_zeroes_in_an_array()"
   ]
  },
  {
   "cell_type": "markdown",
   "metadata": {},
   "source": [
    "7. Write a Python program to create a 8x8 matrix and fill it with a checkerboard pattern."
   ]
  },
  {
   "cell_type": "code",
   "execution_count": 54,
   "metadata": {},
   "outputs": [
    {
     "name": "stderr",
     "output_type": "stream",
     "text": [
      "DEBUG:root:Checkerboard pattern:\n",
      " [[0 1 0 1 0 1 0 1]\n",
      " [1 0 1 0 1 0 1 0]\n",
      " [0 1 0 1 0 1 0 1]\n",
      " [1 0 1 0 1 0 1 0]\n",
      " [0 1 0 1 0 1 0 1]\n",
      " [1 0 1 0 1 0 1 0]\n",
      " [0 1 0 1 0 1 0 1]\n",
      " [1 0 1 0 1 0 1 0]]\n"
     ]
    }
   ],
   "source": [
    "import numpy as np\n",
    "import logging\n",
    "logging.basicConfig(level=logging.DEBUG)\n",
    "\n",
    "def checkerboard_pattern():\n",
    "    \"\"\"\n",
    "       Description:\n",
    "          Function is used to create matrix of checkerboard pattern.\n",
    "       Parameter:\n",
    "          No parameter required.\n",
    "       Return:\n",
    "          Returns nothing.\n",
    "    \"\"\"\n",
    "    new_array = np.zeros((8,8),dtype=int)\n",
    "    new_array[1::2,::2] = 1\n",
    "    new_array[::2,1::2] = 1\n",
    "    logging.debug(\"Checkerboard pattern:\\n {}\".format(new_array))\n",
    "   \n",
    "\n",
    "if __name__ == \"__main__\":\n",
    "    checkerboard_pattern()\n"
   ]
  },
  {
   "cell_type": "markdown",
   "metadata": {},
   "source": [
    "8. Write a Python program to convert a list and tuple into arrays."
   ]
  },
  {
   "cell_type": "code",
   "execution_count": 55,
   "metadata": {},
   "outputs": [
    {
     "name": "stderr",
     "output_type": "stream",
     "text": [
      "DEBUG:root:List to array: \n",
      " ['1' '2' '3' '4' '5' '6' '7' '8' 'Hello' 'Universe']\n",
      "DEBUG:root:Tuple to array:\n",
      " [[8 4 6]\n",
      " [1 2 3]]\n"
     ]
    }
   ],
   "source": [
    "import numpy as np\n",
    "import logging\n",
    "logging.basicConfig(level=logging.DEBUG)\n",
    "\n",
    "def list_to_array():\n",
    "    \"\"\"\n",
    "       Description:\n",
    "          Function is used to convert list to array.\n",
    "       Parameter:\n",
    "          No parameter required.\n",
    "       Return:\n",
    "          Returns nothing.\n",
    "    \"\"\"\n",
    "    new_list = [1, 2, 3, 4, 5, 6, 7, 8,\"Hello\", \"Universe\"]\n",
    "   #  numpy.asarray()function is used when we want to convert input to an array.\n",
    "    logging.debug(\"List to array: \\n {}\".format(np.asarray(new_list)))\n",
    "\n",
    "def tuple_to_array():\n",
    "    \"\"\"\n",
    "       Description:\n",
    "          Function is used to convert tuple to array.\n",
    "       Parameter:\n",
    "          No parameter required.\n",
    "       Return:\n",
    "          Returns nothing.\n",
    "    \"\"\"\n",
    "    new_tuple = ([8, 4, 6], [1, 2, 3])\n",
    "    logging.debug(\"Tuple to array:\\n {}\".format(np.asarray(new_tuple)))\n",
    "\n",
    "\n",
    "if __name__ == \"__main__\":\n",
    "    list_to_array()\n",
    "    tuple_to_array()"
   ]
  },
  {
   "cell_type": "markdown",
   "metadata": {},
   "source": [
    "9. Write a Python program to append values to the end of an array."
   ]
  },
  {
   "cell_type": "code",
   "execution_count": 56,
   "metadata": {},
   "outputs": [
    {
     "name": "stderr",
     "output_type": "stream",
     "text": [
      "DEBUG:root:Original array: \n",
      " [10, 20, 30]\n",
      "DEBUG:root:After append values to the end of the array:\n",
      " [10 20 30 40 50 60 70 80 90]\n"
     ]
    }
   ],
   "source": [
    "import numpy as np\n",
    "import logging\n",
    "logging.basicConfig(level=logging.DEBUG)\n",
    "\n",
    "def append_elements_to_array():\n",
    "    \"\"\"\n",
    "       Description:\n",
    "          Function is used to append elements to array.\n",
    "       Parameter:\n",
    "          No parameter required.\n",
    "       Return:\n",
    "          Returns nothing.\n",
    "    \"\"\"\n",
    "    new_array = [10, 20, 30]\n",
    "    logging.debug(\"Original array: \\n {}\".format(new_array))\n",
    "   #  The numpy.append() appends values along the mentioned axis at the end of the array\n",
    "    new_array = np.append(new_array, [[40, 50, 60], [70, 80, 90]])\n",
    "    logging.debug(\"After append values to the end of the array:\\n {}\".format(new_array))\n",
    "\n",
    "\n",
    "if __name__ == \"__main__\":\n",
    "    append_elements_to_array()"
   ]
  },
  {
   "cell_type": "markdown",
   "metadata": {},
   "source": [
    "10. Write a Python program to find the real and imaginary parts of an array of complex numbers."
   ]
  },
  {
   "cell_type": "code",
   "execution_count": 57,
   "metadata": {},
   "outputs": [
    {
     "name": "stderr",
     "output_type": "stream",
     "text": [
      "DEBUG:root:Original x_array: \n",
      " [1.+0.j]\n",
      "DEBUG:root:Original y_array: \n",
      " [0.70710678+0.70710678j]\n",
      "DEBUG:root:Real part of the x_array:\n",
      " [1.]\n",
      "DEBUG:root:Real part of the y_array:\n",
      " [0.70710678]\n",
      "DEBUG:root:Imaginary part of the X_array:\n",
      " [0.]\n",
      "DEBUG:root:Imaginary part of the y_array:\n",
      " [0.70710678]\n"
     ]
    }
   ],
   "source": [
    "import logging\n",
    "logging.basicConfig(level=logging.DEBUG)\n",
    "import numpy as np\n",
    "\n",
    "def to_find_real_and_imaginary_part_of_an_array():\n",
    "    \"\"\"\n",
    "       Description:\n",
    "          Function is used to get real and imaginary part of the equation.\n",
    "       Parameter:\n",
    "          No parameter required.\n",
    "       Return:\n",
    "          Returns nothing.\n",
    "    \"\"\"\n",
    "    x_array = np.sqrt([1+0j])\n",
    "    y_array = np.sqrt([0+1j])\n",
    "\n",
    "    logging.debug(\"Original x_array: \\n {}\".format(x_array))\n",
    "    logging.debug(\"Original y_array: \\n {}\".format(y_array))\n",
    "    logging.debug(\"Real part of the x_array:\\n {}\".format(x_array.real))\n",
    "    logging.debug(\"Real part of the y_array:\\n {}\".format(y_array.real))\n",
    "    logging.debug(\"Imaginary part of the X_array:\\n {}\".format(x_array.imag))\n",
    "    logging.debug(\"Imaginary part of the y_array:\\n {}\".format(y_array.imag))\n",
    "\n",
    "if __name__ == \"__main__\":\n",
    "    to_find_real_and_imaginary_part_of_an_array()\n"
   ]
  },
  {
   "cell_type": "markdown",
   "metadata": {},
   "source": [
    "11. Write a Python program to find the number of elements of an array, length of one array element in bytes and total bytes consumed by the elements."
   ]
  },
  {
   "cell_type": "code",
   "execution_count": 66,
   "metadata": {},
   "outputs": [
    {
     "name": "stderr",
     "output_type": "stream",
     "text": [
      "2022-01-18 20:21:28,145:Logger:Size of the an array:3 \n",
      "DEBUG:Logger:Size of the an array:3 \n",
      "2022-01-18 20:21:28,149:Logger:Length of one array element in bytes: 8 \n",
      "DEBUG:Logger:Length of one array element in bytes: 8 \n",
      "2022-01-18 20:21:28,152:Logger:Total bytes consumed by the elements of the an array: 24 \n",
      "DEBUG:Logger:Total bytes consumed by the elements of the an array: 24 \n"
     ]
    }
   ],
   "source": [
    "from Logger import logger\n",
    "import numpy as np\n",
    "def to_find_length_size_bytes_of_an_array():\n",
    "    new_array = np.array([1,2,3], dtype=np.float64)\n",
    "    logger.debug(\"Size of the an array:{} \".format(new_array.size))\n",
    "    logger.debug(\"Length of one array element in bytes: {} \".format(new_array.itemsize))\n",
    "    logger.debug(\"Total bytes consumed by the elements of the an array: {} \".format(new_array.nbytes))\n",
    "\n",
    "if __name__ == \"__main__\":\n",
    "    to_find_length_size_bytes_of_an_array()"
   ]
  }
 ],
 "metadata": {
  "interpreter": {
   "hash": "916dbcbb3f70747c44a77c7bcd40155683ae19c65e1c03b4aa3499c5328201f1"
  },
  "kernelspec": {
   "display_name": "Python 3.8.10 64-bit",
   "language": "python",
   "name": "python3"
  },
  "language_info": {
   "codemirror_mode": {
    "name": "ipython",
    "version": 3
   },
   "file_extension": ".py",
   "mimetype": "text/x-python",
   "name": "python",
   "nbconvert_exporter": "python",
   "pygments_lexer": "ipython3",
   "version": "3.8.10"
  },
  "orig_nbformat": 4
 },
 "nbformat": 4,
 "nbformat_minor": 2
}
